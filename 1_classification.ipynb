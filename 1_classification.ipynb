{
 "cells": [
  {
   "cell_type": "markdown",
   "metadata": {},
   "source": [
    "# Classification"
   ]
  },
  {
   "cell_type": "markdown",
   "metadata": {},
   "source": [
    "A common task in computational research is to classify an object based on a set of features. In superivsed machine learning, we can give an algorithm a dataset of training examples that say \"here are specific features, and this is the target class it belongs to\". With enough training examples, a model can be built that recognizes important features in determining an objects class. This model can then be used to predict the class of an object given its known features."
   ]
  },
  {
   "cell_type": "code",
<<<<<<< HEAD
   "execution_count": 1,
=======
   "execution_count": 86,
>>>>>>> ad36f43412ef08c839df04c16fc1d64e1b23c0d1
   "metadata": {},
   "outputs": [],
   "source": [
    "import pandas as pd\n",
    "import numpy as np\n",
    "import matplotlib.pyplot as plt\n",
    "import seaborn as sb\n",
    "\n",
    "from sklearn.tree import DecisionTreeClassifier, plot_tree\n",
    "from sklearn.linear_model import LogisticRegression\n",
    "from sklearn.preprocessing import OneHotEncoder\n",
    "from sklearn.model_selection import train_test_split, cross_val_score, KFold\n",
    "from sklearn.metrics import classification_report, confusion_matrix, accuracy_score, recall_score, precision_score, f1_score"
   ]
  },
  {
   "cell_type": "markdown",
   "metadata": {},
   "source": [
    "## 1) TelCo Dataset"
   ]
  },
  {
   "cell_type": "markdown",
   "metadata": {},
   "source": [
    "\n",
    "\n",
    "We're going to load in the [telco customer dataset](https://www.kaggle.com/yeanzc/telco-customer-churn-ibm-dataset). Our goal here is to predict customer churn (whether or not customers leave a company's customer base) using information about the customers' behavior.\n",
    "\n",
    "**Data Dictionary**\n",
    "\n",
    "7043 observations with 20 variables\n",
    "\n",
    "CustomerID: A unique ID that identifies each customer.\n",
    "\n",
    "Gender: The customer’s gender: Male, Female.\n",
    "\n",
    "Senior Citizen: Indicates if the customer is 65 or older: Yes, No\n",
    "\n",
    "Partner: Indicate if the customer has a partner: Yes, No\n",
    "\n",
    "Dependents: Indicates if the customer lives with any dependents: Yes, No. Dependents could be children, parents, grandparents, etc.\n",
    "\n",
    "tenure: Indicates the total amount of months that the customer has been with the company by the end of the quarter specified above.\n",
    "\n",
    "Phone Service: Indicates if the customer subscribes to home phone service with the company: Yes, No\n",
    "\n",
    "Multiple Lines: Indicates if the customer subscribes to multiple telephone lines with the company: Yes, No\n",
    "\n",
    "Internet Service: Indicates if the customer subscribes to Internet service with the company: No, DSL, Fiber Optic, Cable.\n",
    "\n",
    "Online Security: Indicates if the customer subscribes to an additional online security service provided by the company: Yes, No\n",
    "\n",
    "Online Backup: Indicates if the customer subscribes to an additional online backup service provided by the company: Yes, No\n",
    "\n",
    "Device Protection: Indicates if the customer subscribes to an additional device protection plan for their Internet equipment provided by the company: Yes, No\n",
    "\n",
    "Tech Support: Indicates if the customer subscribes to an additional technical support plan from the company with reduced wait times: Yes, No\n",
    "\n",
    "Streaming TV: Indicates if the customer uses their Internet service to stream television programing from a third party provider: Yes, No. The company does not charge an additional fee for this service.\n",
    "\n",
    "Streaming Movies: Indicates if the customer uses their Internet service to stream movies from a third party provider: Yes, No. The company does not charge an additional fee for this service.\n",
    "\n",
    "Contract: Indicates the customer’s current contract type: Month-to-Month, One Year, Two Year.\n",
    "\n",
    "Paperless Billing: Indicates if the customer has chosen paperless billing: Yes, No\n",
    "\n",
    "Payment Method: Indicates how the customer pays their bill: Bank Withdrawal, Credit Card, Mailed Check\n",
    "\n",
    "Monthly Charge: Indicates the customer’s current total monthly charge for all their services from the company.\n",
    "\n",
    "Churn: Yes = the customer left the company this quarter. No = the customer remained with the company. Directly related to Churn Value."
   ]
  },
  {
   "cell_type": "code",
   "execution_count": 2,
   "metadata": {},
   "outputs": [
    {
     "data": {
      "text/html": [
       "<div>\n",
       "<style scoped>\n",
       "    .dataframe tbody tr th:only-of-type {\n",
       "        vertical-align: middle;\n",
       "    }\n",
       "\n",
       "    .dataframe tbody tr th {\n",
       "        vertical-align: top;\n",
       "    }\n",
       "\n",
       "    .dataframe thead th {\n",
       "        text-align: right;\n",
       "    }\n",
       "</style>\n",
       "<table border=\"1\" class=\"dataframe\">\n",
       "  <thead>\n",
       "    <tr style=\"text-align: right;\">\n",
       "      <th></th>\n",
       "      <th>phoneservice</th>\n",
       "      <th>internetservice</th>\n",
       "      <th>onlinesecurity</th>\n",
       "      <th>techsupport</th>\n",
       "      <th>streamingtv</th>\n",
       "      <th>streamingmovies</th>\n",
       "      <th>contract</th>\n",
       "      <th>paperlessbilling</th>\n",
       "      <th>paymentmethod</th>\n",
       "      <th>churn</th>\n",
       "      <th>tenure</th>\n",
       "      <th>monthlycharges</th>\n",
       "    </tr>\n",
       "    <tr>\n",
       "      <th>customerID</th>\n",
       "      <th></th>\n",
       "      <th></th>\n",
       "      <th></th>\n",
       "      <th></th>\n",
       "      <th></th>\n",
       "      <th></th>\n",
       "      <th></th>\n",
       "      <th></th>\n",
       "      <th></th>\n",
       "      <th></th>\n",
       "      <th></th>\n",
       "      <th></th>\n",
       "    </tr>\n",
       "  </thead>\n",
       "  <tbody>\n",
       "    <tr>\n",
       "      <th>7590-VHVEG</th>\n",
       "      <td>No</td>\n",
       "      <td>DSL</td>\n",
       "      <td>No</td>\n",
       "      <td>No</td>\n",
       "      <td>No</td>\n",
       "      <td>No</td>\n",
       "      <td>Month-to-month</td>\n",
       "      <td>Yes</td>\n",
       "      <td>Electronic check</td>\n",
       "      <td>No</td>\n",
       "      <td>1</td>\n",
       "      <td>29.85</td>\n",
       "    </tr>\n",
       "    <tr>\n",
       "      <th>5575-GNVDE</th>\n",
       "      <td>Yes</td>\n",
       "      <td>DSL</td>\n",
       "      <td>Yes</td>\n",
       "      <td>No</td>\n",
       "      <td>No</td>\n",
       "      <td>No</td>\n",
       "      <td>One year</td>\n",
       "      <td>No</td>\n",
       "      <td>Mailed check</td>\n",
       "      <td>No</td>\n",
       "      <td>34</td>\n",
       "      <td>56.95</td>\n",
       "    </tr>\n",
       "    <tr>\n",
       "      <th>3668-QPYBK</th>\n",
       "      <td>Yes</td>\n",
       "      <td>DSL</td>\n",
       "      <td>Yes</td>\n",
       "      <td>No</td>\n",
       "      <td>No</td>\n",
       "      <td>No</td>\n",
       "      <td>Month-to-month</td>\n",
       "      <td>Yes</td>\n",
       "      <td>Mailed check</td>\n",
       "      <td>Yes</td>\n",
       "      <td>2</td>\n",
       "      <td>53.85</td>\n",
       "    </tr>\n",
       "    <tr>\n",
       "      <th>7795-CFOCW</th>\n",
       "      <td>No</td>\n",
       "      <td>DSL</td>\n",
       "      <td>Yes</td>\n",
       "      <td>Yes</td>\n",
       "      <td>No</td>\n",
       "      <td>No</td>\n",
       "      <td>One year</td>\n",
       "      <td>No</td>\n",
       "      <td>Bank transfer (automatic)</td>\n",
       "      <td>No</td>\n",
       "      <td>45</td>\n",
       "      <td>42.30</td>\n",
       "    </tr>\n",
       "    <tr>\n",
       "      <th>9237-HQITU</th>\n",
       "      <td>Yes</td>\n",
       "      <td>Fiber optic</td>\n",
       "      <td>No</td>\n",
       "      <td>No</td>\n",
       "      <td>No</td>\n",
       "      <td>No</td>\n",
       "      <td>Month-to-month</td>\n",
       "      <td>Yes</td>\n",
       "      <td>Electronic check</td>\n",
       "      <td>Yes</td>\n",
       "      <td>2</td>\n",
       "      <td>70.70</td>\n",
       "    </tr>\n",
       "  </tbody>\n",
       "</table>\n",
       "</div>"
      ],
      "text/plain": [
       "           phoneservice internetservice onlinesecurity techsupport  \\\n",
       "customerID                                                           \n",
       "7590-VHVEG           No             DSL             No          No   \n",
       "5575-GNVDE          Yes             DSL            Yes          No   \n",
       "3668-QPYBK          Yes             DSL            Yes          No   \n",
       "7795-CFOCW           No             DSL            Yes         Yes   \n",
       "9237-HQITU          Yes     Fiber optic             No          No   \n",
       "\n",
       "           streamingtv streamingmovies        contract paperlessbilling  \\\n",
       "customerID                                                                \n",
       "7590-VHVEG          No              No  Month-to-month              Yes   \n",
       "5575-GNVDE          No              No        One year               No   \n",
       "3668-QPYBK          No              No  Month-to-month              Yes   \n",
       "7795-CFOCW          No              No        One year               No   \n",
       "9237-HQITU          No              No  Month-to-month              Yes   \n",
       "\n",
       "                        paymentmethod churn  tenure  monthlycharges  \n",
       "customerID                                                           \n",
       "7590-VHVEG           Electronic check    No       1           29.85  \n",
       "5575-GNVDE               Mailed check    No      34           56.95  \n",
       "3668-QPYBK               Mailed check   Yes       2           53.85  \n",
       "7795-CFOCW  Bank transfer (automatic)    No      45           42.30  \n",
       "9237-HQITU           Electronic check   Yes       2           70.70  "
      ]
     },
     "execution_count": 2,
     "metadata": {},
     "output_type": "execute_result"
    }
   ],
   "source": [
    "churn = pd.read_csv(\"telco_churn.csv\", index_col=[0])\n",
    "churn.head()"
   ]
  },
  {
   "cell_type": "code",
   "execution_count": 3,
   "metadata": {},
   "outputs": [
    {
     "name": "stdout",
     "output_type": "stream",
     "text": [
      "<class 'pandas.core.frame.DataFrame'>\n",
      "Index: 7032 entries, 7590-VHVEG to 3186-AJIEK\n",
      "Data columns (total 12 columns):\n",
      " #   Column            Non-Null Count  Dtype  \n",
      "---  ------            --------------  -----  \n",
      " 0   phoneservice      7032 non-null   object \n",
      " 1   internetservice   7032 non-null   object \n",
      " 2   onlinesecurity    7032 non-null   object \n",
      " 3   techsupport       7032 non-null   object \n",
      " 4   streamingtv       7032 non-null   object \n",
      " 5   streamingmovies   7032 non-null   object \n",
      " 6   contract          7032 non-null   object \n",
      " 7   paperlessbilling  7032 non-null   object \n",
      " 8   paymentmethod     7032 non-null   object \n",
      " 9   churn             7032 non-null   object \n",
      " 10  tenure            7032 non-null   int64  \n",
      " 11  monthlycharges    7032 non-null   float64\n",
      "dtypes: float64(1), int64(1), object(10)\n",
      "memory usage: 714.2+ KB\n"
     ]
    }
   ],
   "source": [
    "churn.info()"
   ]
  },
  {
   "cell_type": "markdown",
   "metadata": {},
   "source": [
    "We have 11 independent variables and one target variable: `Churn`.\n",
    "\n",
    "Two of our independent variables are numeric, while the nine others are categorical."
   ]
  },
  {
   "cell_type": "code",
   "execution_count": null,
   "metadata": {},
   "outputs": [],
   "source": []
  },
  {
   "cell_type": "markdown",
   "metadata": {},
   "source": [
    "Let's get to know our dataset by conducting some exploratory data analysis. We'll be using some rudimentary data analysis to see there's a relationship between the independent variables and churn."
   ]
  },
  {
   "cell_type": "code",
<<<<<<< HEAD
   "execution_count": 9,
=======
   "execution_count": 4,
>>>>>>> ad36f43412ef08c839df04c16fc1d64e1b23c0d1
   "metadata": {},
   "outputs": [
    {
     "data": {
      "text/html": [
       "<div>\n",
       "<style scoped>\n",
       "    .dataframe tbody tr th:only-of-type {\n",
       "        vertical-align: middle;\n",
       "    }\n",
       "\n",
       "    .dataframe tbody tr th {\n",
       "        vertical-align: top;\n",
       "    }\n",
       "\n",
       "    .dataframe thead th {\n",
       "        text-align: right;\n",
       "    }\n",
       "</style>\n",
       "<table border=\"1\" class=\"dataframe\">\n",
       "  <thead>\n",
       "    <tr style=\"text-align: right;\">\n",
       "      <th></th>\n",
       "      <th>tenure</th>\n",
       "      <th>monthlycharges</th>\n",
       "    </tr>\n",
       "    <tr>\n",
       "      <th>churn</th>\n",
       "      <th></th>\n",
       "      <th></th>\n",
       "    </tr>\n",
       "  </thead>\n",
       "  <tbody>\n",
       "    <tr>\n",
       "      <th>No</th>\n",
       "      <td>37.650010</td>\n",
       "      <td>61.307408</td>\n",
       "    </tr>\n",
       "    <tr>\n",
       "      <th>Yes</th>\n",
       "      <td>17.979133</td>\n",
       "      <td>74.441332</td>\n",
       "    </tr>\n",
       "  </tbody>\n",
       "</table>\n",
       "</div>"
      ],
      "text/plain": [
       "          tenure  monthlycharges\n",
       "churn                           \n",
       "No     37.650010       61.307408\n",
       "Yes    17.979133       74.441332"
      ]
     },
<<<<<<< HEAD
     "execution_count": 9,
=======
     "execution_count": 4,
>>>>>>> ad36f43412ef08c839df04c16fc1d64e1b23c0d1
     "metadata": {},
     "output_type": "execute_result"
    }
   ],
   "source": [
    "churn.groupby(\"churn\").mean()"
   ]
  },
  {
   "cell_type": "markdown",
   "metadata": {},
   "source": [
<<<<<<< HEAD
    "**Does this tell us anything informative?**"
=======
    "TBD"
>>>>>>> ad36f43412ef08c839df04c16fc1d64e1b23c0d1
   ]
  },
  {
   "cell_type": "code",
   "execution_count": null,
   "metadata": {},
   "outputs": [],
   "source": []
  },
  {
   "cell_type": "code",
   "execution_count": null,
   "metadata": {},
   "outputs": [],
   "source": []
  },
  {
   "cell_type": "code",
   "execution_count": null,
   "metadata": {},
   "outputs": [],
   "source": []
  },
  {
   "cell_type": "markdown",
   "metadata": {},
   "source": [
    "## 2) Logistic Regression\n",
    "\n",
<<<<<<< HEAD
    "Logistic regression is a supervised classification algorithm that is used to predict a binary outcome. Similar to linear regression, this model uses coefficients or betas to make its predictions. However unlike a linear regression, its predictions do not fit a straight line but rather a curve known as the Sigmoid Curve as show in the following image.\n",
    "\n",
    "![](https://miro.medium.com/max/700/1*44qV8LhNzE5hPnta2PaaHw.png)\n",
    "\n",
    "In this chart, the x-axis represents the feature and the y-axis represents the probability of the red class 1 dots. Class predictions are made based on whether or a probability meets or surpasses the 0.5 probability threshold.\n",
    "\n",
    "\n",
    "### Sigmoid Formula\n",
    "\n",
    "$\\LARGE\\Pr(Y_i=1|X_i) = {\\frac1{1 + exp (-(\\beta_0 + \\beta_1X_i + \\beta_2X_2 + \\beta_3X_3))}}$\n",
    "\n"
   ]
  },
  {
   "cell_type": "markdown",
   "metadata": {},
   "source": [
    "### Interpreting the Logistic Regression Coefficients\n",
    "\n",
    "\n",
    "![](https://miro.medium.com/max/1400/1*aPgytc42C1btLtB3YbFTQA.jpeg)\n"
   ]
  },
  {
   "cell_type": "code",
   "execution_count": null,
   "metadata": {},
   "outputs": [],
   "source": []
  },
  {
   "cell_type": "markdown",
   "metadata": {},
   "source": [
    "Our task now is to the logistic regression model to classify churn."
=======
    "*explainer of logistic regression function*\n",
    "\n",
    "![](https://scikit-learn.org/stable/_images/sphx_glr_plot_logistic_thumb.png)\n",
    "\n",
    "![](https://miro.medium.com/max/1400/1*aPgytc42C1btLtB3YbFTQA.jpeg)\n",
    "\n",
    "![](https://online.stat.psu.edu/onlinecourses/sites/stat507/files/lesson09/graph_function.gif)"
>>>>>>> ad36f43412ef08c839df04c16fc1d64e1b23c0d1
   ]
  },
  {
   "cell_type": "code",
   "execution_count": null,
   "metadata": {},
   "outputs": [],
   "source": []
  },
  {
   "cell_type": "markdown",
   "metadata": {},
   "source": [
    "### Null accuracy\n",
    "\n",
    "One of the first things you need to check in a classification project is the **null accuracy**.\n",
    "\n",
    "This is defined as the proportion of the largest class in the target variable."
   ]
  },
  {
   "cell_type": "code",
<<<<<<< HEAD
   "execution_count": 4,
=======
   "execution_count": 5,
>>>>>>> ad36f43412ef08c839df04c16fc1d64e1b23c0d1
   "metadata": {},
   "outputs": [
    {
     "data": {
      "text/plain": [
       "No     0.734215\n",
       "Yes    0.265785\n",
       "Name: churn, dtype: float64"
      ]
     },
<<<<<<< HEAD
     "execution_count": 4,
=======
     "execution_count": 5,
>>>>>>> ad36f43412ef08c839df04c16fc1d64e1b23c0d1
     "metadata": {},
     "output_type": "execute_result"
    }
   ],
   "source": [
    "# Assign y variable\n",
    "y = churn.churn\n",
    "\n",
    "#Grab proporition\n",
    "y.value_counts(normalize =True)"
   ]
  },
  {
   "cell_type": "markdown",
   "metadata": {},
   "source": [
    "- The largest class is `No` which makes up almost 3/4 of the data.\n",
    "- The null accuracy is important because it serves as a benchmark for our model. \n",
    "- Let's say we were to train a \"dummy\" model that simply predicted \"No\" everytime because \"No\" is the largest class.\n",
    "- That would mean we'd have a model that's correct 73.4% of the time without doing any actual model training.\n",
    "- That would also mean that an actual trained model that produced a 75 or 76% accuracy wouldn't be that good of a model because it barely beats the \"dummy\" model."
   ]
  },
  {
   "cell_type": "code",
   "execution_count": null,
   "metadata": {},
   "outputs": [],
   "source": []
  },
  {
   "cell_type": "markdown",
   "metadata": {},
   "source": [
    "Let's train a logistic regression model on the two quantitative variables: `monthlycharges` and `tenure`"
   ]
  },
  {
   "cell_type": "code",
<<<<<<< HEAD
   "execution_count": 5,
=======
   "execution_count": 6,
>>>>>>> ad36f43412ef08c839df04c16fc1d64e1b23c0d1
   "metadata": {},
   "outputs": [
    {
     "data": {
      "text/html": [
       "<div>\n",
       "<style scoped>\n",
       "    .dataframe tbody tr th:only-of-type {\n",
       "        vertical-align: middle;\n",
       "    }\n",
       "\n",
       "    .dataframe tbody tr th {\n",
       "        vertical-align: top;\n",
       "    }\n",
       "\n",
       "    .dataframe thead th {\n",
       "        text-align: right;\n",
       "    }\n",
       "</style>\n",
       "<table border=\"1\" class=\"dataframe\">\n",
       "  <thead>\n",
       "    <tr style=\"text-align: right;\">\n",
       "      <th></th>\n",
       "      <th>tenure</th>\n",
       "      <th>monthlycharges</th>\n",
       "    </tr>\n",
       "    <tr>\n",
       "      <th>customerID</th>\n",
       "      <th></th>\n",
       "      <th></th>\n",
       "    </tr>\n",
       "  </thead>\n",
       "  <tbody>\n",
       "    <tr>\n",
       "      <th>7590-VHVEG</th>\n",
       "      <td>1</td>\n",
       "      <td>29.85</td>\n",
       "    </tr>\n",
       "    <tr>\n",
       "      <th>5575-GNVDE</th>\n",
       "      <td>34</td>\n",
       "      <td>56.95</td>\n",
       "    </tr>\n",
       "    <tr>\n",
       "      <th>3668-QPYBK</th>\n",
       "      <td>2</td>\n",
       "      <td>53.85</td>\n",
       "    </tr>\n",
       "    <tr>\n",
       "      <th>7795-CFOCW</th>\n",
       "      <td>45</td>\n",
       "      <td>42.30</td>\n",
       "    </tr>\n",
       "    <tr>\n",
       "      <th>9237-HQITU</th>\n",
       "      <td>2</td>\n",
       "      <td>70.70</td>\n",
       "    </tr>\n",
       "  </tbody>\n",
       "</table>\n",
       "</div>"
      ],
      "text/plain": [
       "            tenure  monthlycharges\n",
       "customerID                        \n",
       "7590-VHVEG       1           29.85\n",
       "5575-GNVDE      34           56.95\n",
       "3668-QPYBK       2           53.85\n",
       "7795-CFOCW      45           42.30\n",
       "9237-HQITU       2           70.70"
      ]
     },
<<<<<<< HEAD
     "execution_count": 5,
=======
     "execution_count": 6,
>>>>>>> ad36f43412ef08c839df04c16fc1d64e1b23c0d1
     "metadata": {},
     "output_type": "execute_result"
    }
   ],
   "source": [
    "#Select just the numerical columns\n",
    "X_num =churn.select_dtypes(\"number\")\n",
    "X_num.head()"
   ]
  },
  {
   "cell_type": "code",
<<<<<<< HEAD
   "execution_count": 6,
=======
   "execution_count": 7,
>>>>>>> ad36f43412ef08c839df04c16fc1d64e1b23c0d1
   "metadata": {},
   "outputs": [
    {
     "data": {
      "text/plain": [
       "LogisticRegression()"
      ]
     },
<<<<<<< HEAD
     "execution_count": 6,
=======
     "execution_count": 7,
>>>>>>> ad36f43412ef08c839df04c16fc1d64e1b23c0d1
     "metadata": {},
     "output_type": "execute_result"
    }
   ],
   "source": [
    "#Convert No -> 0 and Yes -> 1. Follows alphanumeric ordering\n",
    "y = y.factorize()[0]\n",
    "\n",
    "#Initialize model\n",
    "lr = LogisticRegression()\n",
    "#Fit on data\n",
    "lr.fit(X_num, y)"
   ]
  },
  {
   "cell_type": "code",
<<<<<<< HEAD
   "execution_count": 7,
=======
   "execution_count": 8,
>>>>>>> ad36f43412ef08c839df04c16fc1d64e1b23c0d1
   "metadata": {},
   "outputs": [
    {
     "data": {
      "text/plain": [
       "0.7842718998862344"
      ]
     },
<<<<<<< HEAD
     "execution_count": 7,
=======
     "execution_count": 8,
>>>>>>> ad36f43412ef08c839df04c16fc1d64e1b23c0d1
     "metadata": {},
     "output_type": "execute_result"
    }
   ],
   "source": [
<<<<<<< HEAD
    "#Accuracy score\n",
=======
>>>>>>> ad36f43412ef08c839df04c16fc1d64e1b23c0d1
    "lr.score(X_num, y)"
   ]
  },
  {
<<<<<<< HEAD
   "cell_type": "markdown",
   "metadata": {},
   "source": [
    "### Probability Decision Boundary Plot\n",
    "\n",
    "Let's visualize the logistic regression model. And what we mean by visualize is we're going to plot a 2-d plot that color-encodes the probailities of the the two classes.\n",
    "\n",
    "- Red shaded areas indicate the not churn\n",
    "- Blue shaded areas indicate churn\n",
    "- Shading corresponds to prediction strength"
   ]
  },
  {
   "cell_type": "code",
   "execution_count": 8,
   "metadata": {},
   "outputs": [
    {
     "data": {
      "image/png": "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\n",
      "text/plain": [
       "<Figure size 648x576 with 1 Axes>"
      ]
     },
     "metadata": {
      "needs_background": "light"
     },
=======
   "cell_type": "code",
   "execution_count": 9,
   "metadata": {},
   "outputs": [
    {
     "name": "stderr",
     "output_type": "stream",
     "text": [
      "/usr/local/lib/python3.7/site-packages/sklearn/base.py:442: UserWarning: X does not have valid feature names, but LogisticRegression was fitted with feature names\n",
      "  \"X does not have valid feature names, but\"\n"
     ]
    },
    {
     "data": {
      "text/plain": [
       "Text(0, 0.5, 'Monthly Charges')"
      ]
     },
     "execution_count": 9,
     "metadata": {},
     "output_type": "execute_result"
    },
    {
     "data": {
      "image/png": "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\n",
      "text/plain": [
       "<Figure size 648x576 with 1 Axes>"
      ]
     },
     "metadata": {},
>>>>>>> ad36f43412ef08c839df04c16fc1d64e1b23c0d1
     "output_type": "display_data"
    }
   ],
   "source": [
    "min1, max1 = X_num.iloc[:, 0].min()-10, X_num.iloc[:, 0].max()+10\n",
    "min2, max2 = X_num.iloc[:, 1].min()-10, X_num.iloc[:, 1].max()+10\n",
    "x1grid = np.arange(min1, max1, 0.1)\n",
    "x2grid = np.arange(min2, max2, 0.1)\n",
    "xx, yy = np.meshgrid(x1grid, x2grid)\n",
    "r1, r2 = xx.flatten(), yy.flatten()\n",
    "r1, r2 = r1.reshape((len(r1), 1)), r2.reshape((len(r2), 1))\n",
    "grid = np.hstack((r1,r2))\n",
    "yhat = lr.predict_proba(grid)[:, 1]\n",
    "zz = yhat.reshape(xx.shape)\n",
    "plt.figure(figsize=(9, 8))\n",
    "plt.contourf(xx, yy, zz, cmap='RdBu', alpha = .4)\n",
    "plt.xlabel(\"Tenure\")\n",
<<<<<<< HEAD
    "plt.ylabel(\"Monthly Charges\");"
=======
    "plt.ylabel(\"Monthly Charges\")\n",
    "# plt.scatter(X_num.tenure, X_num.monthlycharges, c= y, cmap=\"RdBu\", alpha=.4)"
>>>>>>> ad36f43412ef08c839df04c16fc1d64e1b23c0d1
   ]
  },
  {
   "cell_type": "code",
   "execution_count": null,
   "metadata": {},
   "outputs": [],
   "source": []
  },
  {
   "cell_type": "markdown",
   "metadata": {},
   "source": [
    "### One-Hot-Encoding\n",
    "\n",
    "Time to train a model using the categorical variables. We obviously cannot throw directly them into a model, we need to do a form of preprocessing called one-hot encoding that turns categorical data into numerical data.\n",
    "\n",
    "One-hot-encoding creates `k` new variables for a single categorical variable with `k` categories (or levels), where each new variable is coded with a `1` for the observations that contain that category, and a `0` for each observation that doesn't. \n",
    "\n",
    "We're going to learn hot to create these variables with both pandas and sklearn."
   ]
  },
  {
   "cell_type": "code",
   "execution_count": null,
   "metadata": {},
   "outputs": [],
   "source": []
  },
  {
   "cell_type": "markdown",
   "metadata": {},
   "source": [
    "Making dummy variables in pandas"
   ]
  },
  {
   "cell_type": "code",
<<<<<<< HEAD
   "execution_count": 9,
=======
   "execution_count": 10,
>>>>>>> ad36f43412ef08c839df04c16fc1d64e1b23c0d1
   "metadata": {},
   "outputs": [
    {
     "data": {
      "text/plain": [
       "customerID\n",
       "7590-VHVEG             Electronic check\n",
       "5575-GNVDE                 Mailed check\n",
       "3668-QPYBK                 Mailed check\n",
       "7795-CFOCW    Bank transfer (automatic)\n",
       "9237-HQITU             Electronic check\n",
       "Name: paymentmethod, dtype: object"
      ]
     },
<<<<<<< HEAD
     "execution_count": 9,
=======
     "execution_count": 10,
>>>>>>> ad36f43412ef08c839df04c16fc1d64e1b23c0d1
     "metadata": {},
     "output_type": "execute_result"
    }
   ],
   "source": [
    "#Pick PaymentMethod variable\n",
    "\n",
    "pm = churn.paymentmethod\n",
    "pm.head()"
   ]
  },
  {
   "cell_type": "code",
<<<<<<< HEAD
   "execution_count": 10,
=======
   "execution_count": 11,
>>>>>>> ad36f43412ef08c839df04c16fc1d64e1b23c0d1
   "metadata": {},
   "outputs": [
    {
     "data": {
      "text/plain": [
       "array(['Electronic check', 'Mailed check', 'Bank transfer (automatic)',\n",
       "       'Credit card (automatic)'], dtype=object)"
      ]
     },
<<<<<<< HEAD
     "execution_count": 10,
=======
     "execution_count": 11,
>>>>>>> ad36f43412ef08c839df04c16fc1d64e1b23c0d1
     "metadata": {},
     "output_type": "execute_result"
    }
   ],
   "source": [
<<<<<<< HEAD
    "#Show unique categories in paymentmethod\n",
=======
>>>>>>> ad36f43412ef08c839df04c16fc1d64e1b23c0d1
    "pm.unique()"
   ]
  },
  {
   "cell_type": "markdown",
   "metadata": {},
   "source": [
    "`paymentmethod` has four unique variables which means we are going to create a dummy variable dataframe with four columns"
   ]
  },
  {
   "cell_type": "code",
<<<<<<< HEAD
   "execution_count": 11,
=======
   "execution_count": 12,
>>>>>>> ad36f43412ef08c839df04c16fc1d64e1b23c0d1
   "metadata": {},
   "outputs": [
    {
     "data": {
      "text/html": [
       "<div>\n",
       "<style scoped>\n",
       "    .dataframe tbody tr th:only-of-type {\n",
       "        vertical-align: middle;\n",
       "    }\n",
       "\n",
       "    .dataframe tbody tr th {\n",
       "        vertical-align: top;\n",
       "    }\n",
       "\n",
       "    .dataframe thead th {\n",
       "        text-align: right;\n",
       "    }\n",
       "</style>\n",
       "<table border=\"1\" class=\"dataframe\">\n",
       "  <thead>\n",
       "    <tr style=\"text-align: right;\">\n",
       "      <th></th>\n",
       "      <th>paymentmethod__Bank transfer (automatic)</th>\n",
       "      <th>paymentmethod__Credit card (automatic)</th>\n",
       "      <th>paymentmethod__Electronic check</th>\n",
       "      <th>paymentmethod__Mailed check</th>\n",
       "    </tr>\n",
       "    <tr>\n",
       "      <th>customerID</th>\n",
       "      <th></th>\n",
       "      <th></th>\n",
       "      <th></th>\n",
       "      <th></th>\n",
       "    </tr>\n",
       "  </thead>\n",
       "  <tbody>\n",
       "    <tr>\n",
       "      <th>7590-VHVEG</th>\n",
       "      <td>0</td>\n",
       "      <td>0</td>\n",
       "      <td>1</td>\n",
       "      <td>0</td>\n",
       "    </tr>\n",
       "    <tr>\n",
       "      <th>5575-GNVDE</th>\n",
       "      <td>0</td>\n",
       "      <td>0</td>\n",
       "      <td>0</td>\n",
       "      <td>1</td>\n",
       "    </tr>\n",
       "    <tr>\n",
       "      <th>3668-QPYBK</th>\n",
       "      <td>0</td>\n",
       "      <td>0</td>\n",
       "      <td>0</td>\n",
       "      <td>1</td>\n",
       "    </tr>\n",
       "    <tr>\n",
       "      <th>7795-CFOCW</th>\n",
       "      <td>1</td>\n",
       "      <td>0</td>\n",
       "      <td>0</td>\n",
       "      <td>0</td>\n",
       "    </tr>\n",
       "    <tr>\n",
       "      <th>9237-HQITU</th>\n",
       "      <td>0</td>\n",
       "      <td>0</td>\n",
       "      <td>1</td>\n",
       "      <td>0</td>\n",
       "    </tr>\n",
       "  </tbody>\n",
       "</table>\n",
       "</div>"
      ],
      "text/plain": [
       "            paymentmethod__Bank transfer (automatic)  \\\n",
       "customerID                                             \n",
       "7590-VHVEG                                         0   \n",
       "5575-GNVDE                                         0   \n",
       "3668-QPYBK                                         0   \n",
       "7795-CFOCW                                         1   \n",
       "9237-HQITU                                         0   \n",
       "\n",
       "            paymentmethod__Credit card (automatic)  \\\n",
       "customerID                                           \n",
       "7590-VHVEG                                       0   \n",
       "5575-GNVDE                                       0   \n",
       "3668-QPYBK                                       0   \n",
       "7795-CFOCW                                       0   \n",
       "9237-HQITU                                       0   \n",
       "\n",
       "            paymentmethod__Electronic check  paymentmethod__Mailed check  \n",
       "customerID                                                                \n",
       "7590-VHVEG                                1                            0  \n",
       "5575-GNVDE                                0                            1  \n",
       "3668-QPYBK                                0                            1  \n",
       "7795-CFOCW                                0                            0  \n",
       "9237-HQITU                                1                            0  "
      ]
     },
<<<<<<< HEAD
     "execution_count": 11,
=======
     "execution_count": 12,
>>>>>>> ad36f43412ef08c839df04c16fc1d64e1b23c0d1
     "metadata": {},
     "output_type": "execute_result"
    }
   ],
   "source": [
    "pm_dummies = pd.get_dummies(pm, prefix=\"paymentmethod_\")\n",
    "pm_dummies.head()"
   ]
  },
  {
   "cell_type": "code",
   "execution_count": null,
   "metadata": {},
   "outputs": [],
   "source": []
  },
  {
   "cell_type": "markdown",
   "metadata": {},
   "source": [
    "`pd.get_dummies` can be used on the entire dataset"
   ]
  },
  {
   "cell_type": "code",
<<<<<<< HEAD
   "execution_count": 12,
=======
   "execution_count": 13,
>>>>>>> ad36f43412ef08c839df04c16fc1d64e1b23c0d1
   "metadata": {},
   "outputs": [
    {
     "data": {
      "text/html": [
       "<div>\n",
       "<style scoped>\n",
       "    .dataframe tbody tr th:only-of-type {\n",
       "        vertical-align: middle;\n",
       "    }\n",
       "\n",
       "    .dataframe tbody tr th {\n",
       "        vertical-align: top;\n",
       "    }\n",
       "\n",
       "    .dataframe thead th {\n",
       "        text-align: right;\n",
       "    }\n",
       "</style>\n",
       "<table border=\"1\" class=\"dataframe\">\n",
       "  <thead>\n",
       "    <tr style=\"text-align: right;\">\n",
       "      <th></th>\n",
       "      <th>churn</th>\n",
       "      <th>tenure</th>\n",
       "      <th>monthlycharges</th>\n",
       "      <th>phoneservice_No</th>\n",
       "      <th>phoneservice_Yes</th>\n",
       "      <th>internetservice_DSL</th>\n",
       "      <th>internetservice_Fiber optic</th>\n",
       "      <th>internetservice_No</th>\n",
       "      <th>onlinesecurity_No</th>\n",
       "      <th>onlinesecurity_Yes</th>\n",
       "      <th>...</th>\n",
       "      <th>streamingmovies_Yes</th>\n",
       "      <th>contract_Month-to-month</th>\n",
       "      <th>contract_One year</th>\n",
       "      <th>contract_Two year</th>\n",
       "      <th>paperlessbilling_No</th>\n",
       "      <th>paperlessbilling_Yes</th>\n",
       "      <th>paymentmethod_Bank transfer (automatic)</th>\n",
       "      <th>paymentmethod_Credit card (automatic)</th>\n",
       "      <th>paymentmethod_Electronic check</th>\n",
       "      <th>paymentmethod_Mailed check</th>\n",
       "    </tr>\n",
       "    <tr>\n",
       "      <th>customerID</th>\n",
       "      <th></th>\n",
       "      <th></th>\n",
       "      <th></th>\n",
       "      <th></th>\n",
       "      <th></th>\n",
       "      <th></th>\n",
       "      <th></th>\n",
       "      <th></th>\n",
       "      <th></th>\n",
       "      <th></th>\n",
       "      <th></th>\n",
       "      <th></th>\n",
       "      <th></th>\n",
       "      <th></th>\n",
       "      <th></th>\n",
       "      <th></th>\n",
       "      <th></th>\n",
       "      <th></th>\n",
       "      <th></th>\n",
       "      <th></th>\n",
       "      <th></th>\n",
       "    </tr>\n",
       "  </thead>\n",
       "  <tbody>\n",
       "    <tr>\n",
       "      <th>7590-VHVEG</th>\n",
       "      <td>No</td>\n",
       "      <td>1</td>\n",
       "      <td>29.85</td>\n",
       "      <td>1</td>\n",
       "      <td>0</td>\n",
       "      <td>1</td>\n",
       "      <td>0</td>\n",
       "      <td>0</td>\n",
       "      <td>1</td>\n",
       "      <td>0</td>\n",
       "      <td>...</td>\n",
       "      <td>0</td>\n",
       "      <td>1</td>\n",
       "      <td>0</td>\n",
       "      <td>0</td>\n",
       "      <td>0</td>\n",
       "      <td>1</td>\n",
       "      <td>0</td>\n",
       "      <td>0</td>\n",
       "      <td>1</td>\n",
       "      <td>0</td>\n",
       "    </tr>\n",
       "    <tr>\n",
       "      <th>5575-GNVDE</th>\n",
       "      <td>No</td>\n",
       "      <td>34</td>\n",
       "      <td>56.95</td>\n",
       "      <td>0</td>\n",
       "      <td>1</td>\n",
       "      <td>1</td>\n",
       "      <td>0</td>\n",
       "      <td>0</td>\n",
       "      <td>0</td>\n",
       "      <td>1</td>\n",
       "      <td>...</td>\n",
       "      <td>0</td>\n",
       "      <td>0</td>\n",
       "      <td>1</td>\n",
       "      <td>0</td>\n",
       "      <td>1</td>\n",
       "      <td>0</td>\n",
       "      <td>0</td>\n",
       "      <td>0</td>\n",
       "      <td>0</td>\n",
       "      <td>1</td>\n",
       "    </tr>\n",
       "    <tr>\n",
       "      <th>3668-QPYBK</th>\n",
       "      <td>Yes</td>\n",
       "      <td>2</td>\n",
       "      <td>53.85</td>\n",
       "      <td>0</td>\n",
       "      <td>1</td>\n",
       "      <td>1</td>\n",
       "      <td>0</td>\n",
       "      <td>0</td>\n",
       "      <td>0</td>\n",
       "      <td>1</td>\n",
       "      <td>...</td>\n",
       "      <td>0</td>\n",
       "      <td>1</td>\n",
       "      <td>0</td>\n",
       "      <td>0</td>\n",
       "      <td>0</td>\n",
       "      <td>1</td>\n",
       "      <td>0</td>\n",
       "      <td>0</td>\n",
       "      <td>0</td>\n",
       "      <td>1</td>\n",
       "    </tr>\n",
       "    <tr>\n",
       "      <th>7795-CFOCW</th>\n",
       "      <td>No</td>\n",
       "      <td>45</td>\n",
       "      <td>42.30</td>\n",
       "      <td>1</td>\n",
       "      <td>0</td>\n",
       "      <td>1</td>\n",
       "      <td>0</td>\n",
       "      <td>0</td>\n",
       "      <td>0</td>\n",
       "      <td>1</td>\n",
       "      <td>...</td>\n",
       "      <td>0</td>\n",
       "      <td>0</td>\n",
       "      <td>1</td>\n",
       "      <td>0</td>\n",
       "      <td>1</td>\n",
       "      <td>0</td>\n",
       "      <td>1</td>\n",
       "      <td>0</td>\n",
       "      <td>0</td>\n",
       "      <td>0</td>\n",
       "    </tr>\n",
       "    <tr>\n",
       "      <th>9237-HQITU</th>\n",
       "      <td>Yes</td>\n",
       "      <td>2</td>\n",
       "      <td>70.70</td>\n",
       "      <td>0</td>\n",
       "      <td>1</td>\n",
       "      <td>0</td>\n",
       "      <td>1</td>\n",
       "      <td>0</td>\n",
       "      <td>1</td>\n",
       "      <td>0</td>\n",
       "      <td>...</td>\n",
       "      <td>0</td>\n",
       "      <td>1</td>\n",
       "      <td>0</td>\n",
       "      <td>0</td>\n",
       "      <td>0</td>\n",
       "      <td>1</td>\n",
       "      <td>0</td>\n",
       "      <td>0</td>\n",
       "      <td>1</td>\n",
       "      <td>0</td>\n",
       "    </tr>\n",
       "  </tbody>\n",
       "</table>\n",
       "<p>5 rows × 25 columns</p>\n",
       "</div>"
      ],
      "text/plain": [
       "           churn  tenure  monthlycharges  phoneservice_No  phoneservice_Yes  \\\n",
       "customerID                                                                    \n",
       "7590-VHVEG    No       1           29.85                1                 0   \n",
       "5575-GNVDE    No      34           56.95                0                 1   \n",
       "3668-QPYBK   Yes       2           53.85                0                 1   \n",
       "7795-CFOCW    No      45           42.30                1                 0   \n",
       "9237-HQITU   Yes       2           70.70                0                 1   \n",
       "\n",
       "            internetservice_DSL  internetservice_Fiber optic  \\\n",
       "customerID                                                     \n",
       "7590-VHVEG                    1                            0   \n",
       "5575-GNVDE                    1                            0   \n",
       "3668-QPYBK                    1                            0   \n",
       "7795-CFOCW                    1                            0   \n",
       "9237-HQITU                    0                            1   \n",
       "\n",
       "            internetservice_No  onlinesecurity_No  onlinesecurity_Yes  ...  \\\n",
       "customerID                                                             ...   \n",
       "7590-VHVEG                   0                  1                   0  ...   \n",
       "5575-GNVDE                   0                  0                   1  ...   \n",
       "3668-QPYBK                   0                  0                   1  ...   \n",
       "7795-CFOCW                   0                  0                   1  ...   \n",
       "9237-HQITU                   0                  1                   0  ...   \n",
       "\n",
       "            streamingmovies_Yes  contract_Month-to-month  contract_One year  \\\n",
       "customerID                                                                    \n",
       "7590-VHVEG                    0                        1                  0   \n",
       "5575-GNVDE                    0                        0                  1   \n",
       "3668-QPYBK                    0                        1                  0   \n",
       "7795-CFOCW                    0                        0                  1   \n",
       "9237-HQITU                    0                        1                  0   \n",
       "\n",
       "            contract_Two year  paperlessbilling_No  paperlessbilling_Yes  \\\n",
       "customerID                                                                 \n",
       "7590-VHVEG                  0                    0                     1   \n",
       "5575-GNVDE                  0                    1                     0   \n",
       "3668-QPYBK                  0                    0                     1   \n",
       "7795-CFOCW                  0                    1                     0   \n",
       "9237-HQITU                  0                    0                     1   \n",
       "\n",
       "            paymentmethod_Bank transfer (automatic)  \\\n",
       "customerID                                            \n",
       "7590-VHVEG                                        0   \n",
       "5575-GNVDE                                        0   \n",
       "3668-QPYBK                                        0   \n",
       "7795-CFOCW                                        1   \n",
       "9237-HQITU                                        0   \n",
       "\n",
       "            paymentmethod_Credit card (automatic)  \\\n",
       "customerID                                          \n",
       "7590-VHVEG                                      0   \n",
       "5575-GNVDE                                      0   \n",
       "3668-QPYBK                                      0   \n",
       "7795-CFOCW                                      0   \n",
       "9237-HQITU                                      0   \n",
       "\n",
       "            paymentmethod_Electronic check  paymentmethod_Mailed check  \n",
       "customerID                                                              \n",
       "7590-VHVEG                               1                           0  \n",
       "5575-GNVDE                               0                           1  \n",
       "3668-QPYBK                               0                           1  \n",
       "7795-CFOCW                               0                           0  \n",
       "9237-HQITU                               1                           0  \n",
       "\n",
       "[5 rows x 25 columns]"
      ]
     },
<<<<<<< HEAD
     "execution_count": 12,
=======
     "execution_count": 13,
>>>>>>> ad36f43412ef08c839df04c16fc1d64e1b23c0d1
     "metadata": {},
     "output_type": "execute_result"
    }
   ],
   "source": [
    "#Grab categorical columns, referred to as object by pandas\n",
    "\n",
    "\n",
    "o_cols = churn.select_dtypes(\"object\").columns[:-1] # [:-1] is for excluding the target variable churn \n",
    "churn_dummies = pd.get_dummies(churn, columns=o_cols)\n",
    "churn_dummies.head()"
   ]
  },
  {
   "cell_type": "code",
   "execution_count": null,
   "metadata": {},
   "outputs": [],
   "source": []
  },
  {
<<<<<<< HEAD
   "cell_type": "markdown",
   "metadata": {},
   "source": [
    "**Dummy Variable Trap section**\n",
    "\n",
    "The [\"Dummy Variable Trap\"](https://www.algosome.com/articles/dummy-variable-trap-regression.html) occurs when using One-Hot-Encoding on multiple categorical variables within the same set of features. This is because each set of one-hot-encoded variables can be added together across columns to create a single column of all `1`s, and so are multi-colinear when multiple one-hot-encoded variables exist within a given model.\n",
    "\n",
    "To resolve this,we remove the first one-hot-encoded variable for each categorical variables, resulting in `k-1` so-called \"Dummy Variables\". \n",
    "\n",
    "In pandas we can address the dummy variable trap issue by setting `drop_first` to `True`"
   ]
  },
  {
   "cell_type": "code",
   "execution_count": 13,
   "metadata": {},
   "outputs": [
    {
     "data": {
      "text/html": [
       "<div>\n",
       "<style scoped>\n",
       "    .dataframe tbody tr th:only-of-type {\n",
       "        vertical-align: middle;\n",
       "    }\n",
       "\n",
       "    .dataframe tbody tr th {\n",
       "        vertical-align: top;\n",
       "    }\n",
       "\n",
       "    .dataframe thead th {\n",
       "        text-align: right;\n",
       "    }\n",
       "</style>\n",
       "<table border=\"1\" class=\"dataframe\">\n",
       "  <thead>\n",
       "    <tr style=\"text-align: right;\">\n",
       "      <th></th>\n",
       "      <th>phoneservice__Yes</th>\n",
       "    </tr>\n",
       "    <tr>\n",
       "      <th>customerID</th>\n",
       "      <th></th>\n",
       "    </tr>\n",
       "  </thead>\n",
       "  <tbody>\n",
       "    <tr>\n",
       "      <th>7590-VHVEG</th>\n",
       "      <td>0</td>\n",
       "    </tr>\n",
       "    <tr>\n",
       "      <th>5575-GNVDE</th>\n",
       "      <td>1</td>\n",
       "    </tr>\n",
       "    <tr>\n",
       "      <th>3668-QPYBK</th>\n",
       "      <td>1</td>\n",
       "    </tr>\n",
       "    <tr>\n",
       "      <th>7795-CFOCW</th>\n",
       "      <td>0</td>\n",
       "    </tr>\n",
       "    <tr>\n",
       "      <th>9237-HQITU</th>\n",
       "      <td>1</td>\n",
       "    </tr>\n",
       "  </tbody>\n",
       "</table>\n",
       "</div>"
      ],
      "text/plain": [
       "            phoneservice__Yes\n",
       "customerID                   \n",
       "7590-VHVEG                  0\n",
       "5575-GNVDE                  1\n",
       "3668-QPYBK                  1\n",
       "7795-CFOCW                  0\n",
       "9237-HQITU                  1"
      ]
     },
     "execution_count": 13,
     "metadata": {},
     "output_type": "execute_result"
    }
   ],
   "source": [
    "#Make dummy variables for phoneservice\n",
    "pd.get_dummies(churn.phoneservice, prefix=\"phoneservice_\", drop_first=True).head()"
   ]
  },
  {
   "cell_type": "markdown",
   "metadata": {},
   "source": [
    "Remember it's unneccesary for each of the two categories in phoneservices to have each own's column.\n",
    "\n",
    "Even though \"No\" isn't in the dataframe above, it's still represented in the data by virtue of the 0 value under the `phoneservice__Yes` column."
=======
   "cell_type": "markdown",
   "metadata": {},
   "source": [
    "**Dummy Variable Trap section**\n",
    "\n",
    "The [\"Dummy Variable Trap\"](https://www.algosome.com/articles/dummy-variable-trap-regression.html) occurs when using One-Hot-Encoding on multiple categorical variables within the same set of features. This is because each set of one-hot-encoded variables can be added together across columns to create a single column of all `1`s, and so are multi-colinear when multiple one-hot-encoded variables exist within a given model.\n",
    "\n",
    "To resolve this,we remove the first one-hot-encoded variable for each categorical variables, resulting in `k-1` so-called \"Dummy Variables\". \n",
    "\n",
    "In pandas we can address the dummy variable trap issue by setting `drop_first` to `True`"
   ]
  },
  {
   "cell_type": "code",
   "execution_count": 14,
   "metadata": {},
   "outputs": [
    {
     "data": {
      "text/html": [
       "<div>\n",
       "<style scoped>\n",
       "    .dataframe tbody tr th:only-of-type {\n",
       "        vertical-align: middle;\n",
       "    }\n",
       "\n",
       "    .dataframe tbody tr th {\n",
       "        vertical-align: top;\n",
       "    }\n",
       "\n",
       "    .dataframe thead th {\n",
       "        text-align: right;\n",
       "    }\n",
       "</style>\n",
       "<table border=\"1\" class=\"dataframe\">\n",
       "  <thead>\n",
       "    <tr style=\"text-align: right;\">\n",
       "      <th></th>\n",
       "      <th>phoneservice__Yes</th>\n",
       "    </tr>\n",
       "    <tr>\n",
       "      <th>customerID</th>\n",
       "      <th></th>\n",
       "    </tr>\n",
       "  </thead>\n",
       "  <tbody>\n",
       "    <tr>\n",
       "      <th>7590-VHVEG</th>\n",
       "      <td>0</td>\n",
       "    </tr>\n",
       "    <tr>\n",
       "      <th>5575-GNVDE</th>\n",
       "      <td>1</td>\n",
       "    </tr>\n",
       "    <tr>\n",
       "      <th>3668-QPYBK</th>\n",
       "      <td>1</td>\n",
       "    </tr>\n",
       "    <tr>\n",
       "      <th>7795-CFOCW</th>\n",
       "      <td>0</td>\n",
       "    </tr>\n",
       "    <tr>\n",
       "      <th>9237-HQITU</th>\n",
       "      <td>1</td>\n",
       "    </tr>\n",
       "  </tbody>\n",
       "</table>\n",
       "</div>"
      ],
      "text/plain": [
       "            phoneservice__Yes\n",
       "customerID                   \n",
       "7590-VHVEG                  0\n",
       "5575-GNVDE                  1\n",
       "3668-QPYBK                  1\n",
       "7795-CFOCW                  0\n",
       "9237-HQITU                  1"
      ]
     },
     "execution_count": 14,
     "metadata": {},
     "output_type": "execute_result"
    }
   ],
   "source": [
    "#Make dummy variables for phoneservice\n",
    "pd.get_dummies(churn.phoneservice, prefix=\"phoneservice_\", drop_first=True).head()"
>>>>>>> ad36f43412ef08c839df04c16fc1d64e1b23c0d1
   ]
  },
  {
   "cell_type": "code",
   "execution_count": null,
   "metadata": {},
   "outputs": [],
   "source": []
  },
  {
   "cell_type": "markdown",
   "metadata": {},
   "source": [
<<<<<<< HEAD
    "Repeat process for entire set of dummy variables"
   ]
  },
  {
   "cell_type": "code",
   "execution_count": 14,
   "metadata": {},
   "outputs": [
    {
     "data": {
      "text/html": [
       "<div>\n",
       "<style scoped>\n",
       "    .dataframe tbody tr th:only-of-type {\n",
       "        vertical-align: middle;\n",
       "    }\n",
       "\n",
       "    .dataframe tbody tr th {\n",
       "        vertical-align: top;\n",
       "    }\n",
       "\n",
       "    .dataframe thead th {\n",
       "        text-align: right;\n",
       "    }\n",
       "</style>\n",
       "<table border=\"1\" class=\"dataframe\">\n",
       "  <thead>\n",
       "    <tr style=\"text-align: right;\">\n",
       "      <th></th>\n",
       "      <th>churn</th>\n",
       "      <th>tenure</th>\n",
       "      <th>monthlycharges</th>\n",
       "      <th>phoneservice_Yes</th>\n",
       "      <th>internetservice_Fiber optic</th>\n",
       "      <th>internetservice_No</th>\n",
       "      <th>onlinesecurity_Yes</th>\n",
       "      <th>techsupport_Yes</th>\n",
       "      <th>streamingtv_Yes</th>\n",
       "      <th>streamingmovies_Yes</th>\n",
       "      <th>contract_One year</th>\n",
       "      <th>contract_Two year</th>\n",
       "      <th>paperlessbilling_Yes</th>\n",
       "      <th>paymentmethod_Credit card (automatic)</th>\n",
       "      <th>paymentmethod_Electronic check</th>\n",
       "      <th>paymentmethod_Mailed check</th>\n",
       "    </tr>\n",
       "    <tr>\n",
       "      <th>customerID</th>\n",
       "      <th></th>\n",
       "      <th></th>\n",
       "      <th></th>\n",
       "      <th></th>\n",
       "      <th></th>\n",
       "      <th></th>\n",
       "      <th></th>\n",
       "      <th></th>\n",
       "      <th></th>\n",
       "      <th></th>\n",
       "      <th></th>\n",
       "      <th></th>\n",
       "      <th></th>\n",
       "      <th></th>\n",
       "      <th></th>\n",
       "      <th></th>\n",
       "    </tr>\n",
       "  </thead>\n",
       "  <tbody>\n",
       "    <tr>\n",
       "      <th>7590-VHVEG</th>\n",
       "      <td>No</td>\n",
       "      <td>1</td>\n",
       "      <td>29.85</td>\n",
       "      <td>0</td>\n",
       "      <td>0</td>\n",
       "      <td>0</td>\n",
       "      <td>0</td>\n",
       "      <td>0</td>\n",
       "      <td>0</td>\n",
       "      <td>0</td>\n",
       "      <td>0</td>\n",
       "      <td>0</td>\n",
       "      <td>1</td>\n",
       "      <td>0</td>\n",
       "      <td>1</td>\n",
       "      <td>0</td>\n",
       "    </tr>\n",
       "    <tr>\n",
       "      <th>5575-GNVDE</th>\n",
       "      <td>No</td>\n",
       "      <td>34</td>\n",
       "      <td>56.95</td>\n",
       "      <td>1</td>\n",
       "      <td>0</td>\n",
       "      <td>0</td>\n",
       "      <td>1</td>\n",
       "      <td>0</td>\n",
       "      <td>0</td>\n",
       "      <td>0</td>\n",
       "      <td>1</td>\n",
       "      <td>0</td>\n",
       "      <td>0</td>\n",
       "      <td>0</td>\n",
       "      <td>0</td>\n",
       "      <td>1</td>\n",
       "    </tr>\n",
       "    <tr>\n",
       "      <th>3668-QPYBK</th>\n",
       "      <td>Yes</td>\n",
       "      <td>2</td>\n",
       "      <td>53.85</td>\n",
       "      <td>1</td>\n",
       "      <td>0</td>\n",
       "      <td>0</td>\n",
       "      <td>1</td>\n",
       "      <td>0</td>\n",
       "      <td>0</td>\n",
       "      <td>0</td>\n",
       "      <td>0</td>\n",
       "      <td>0</td>\n",
       "      <td>1</td>\n",
       "      <td>0</td>\n",
       "      <td>0</td>\n",
       "      <td>1</td>\n",
       "    </tr>\n",
       "    <tr>\n",
       "      <th>7795-CFOCW</th>\n",
       "      <td>No</td>\n",
       "      <td>45</td>\n",
       "      <td>42.30</td>\n",
       "      <td>0</td>\n",
       "      <td>0</td>\n",
       "      <td>0</td>\n",
       "      <td>1</td>\n",
       "      <td>1</td>\n",
       "      <td>0</td>\n",
       "      <td>0</td>\n",
       "      <td>1</td>\n",
       "      <td>0</td>\n",
       "      <td>0</td>\n",
       "      <td>0</td>\n",
       "      <td>0</td>\n",
       "      <td>0</td>\n",
       "    </tr>\n",
       "    <tr>\n",
       "      <th>9237-HQITU</th>\n",
       "      <td>Yes</td>\n",
       "      <td>2</td>\n",
       "      <td>70.70</td>\n",
       "      <td>1</td>\n",
       "      <td>1</td>\n",
       "      <td>0</td>\n",
       "      <td>0</td>\n",
       "      <td>0</td>\n",
       "      <td>0</td>\n",
       "      <td>0</td>\n",
       "      <td>0</td>\n",
       "      <td>0</td>\n",
       "      <td>1</td>\n",
       "      <td>0</td>\n",
       "      <td>1</td>\n",
       "      <td>0</td>\n",
       "    </tr>\n",
       "  </tbody>\n",
       "</table>\n",
       "</div>"
      ],
      "text/plain": [
       "           churn  tenure  monthlycharges  phoneservice_Yes  \\\n",
       "customerID                                                   \n",
       "7590-VHVEG    No       1           29.85                 0   \n",
       "5575-GNVDE    No      34           56.95                 1   \n",
       "3668-QPYBK   Yes       2           53.85                 1   \n",
       "7795-CFOCW    No      45           42.30                 0   \n",
       "9237-HQITU   Yes       2           70.70                 1   \n",
       "\n",
       "            internetservice_Fiber optic  internetservice_No  \\\n",
       "customerID                                                    \n",
       "7590-VHVEG                            0                   0   \n",
       "5575-GNVDE                            0                   0   \n",
       "3668-QPYBK                            0                   0   \n",
       "7795-CFOCW                            0                   0   \n",
       "9237-HQITU                            1                   0   \n",
       "\n",
       "            onlinesecurity_Yes  techsupport_Yes  streamingtv_Yes  \\\n",
       "customerID                                                         \n",
       "7590-VHVEG                   0                0                0   \n",
       "5575-GNVDE                   1                0                0   \n",
       "3668-QPYBK                   1                0                0   \n",
       "7795-CFOCW                   1                1                0   \n",
       "9237-HQITU                   0                0                0   \n",
       "\n",
       "            streamingmovies_Yes  contract_One year  contract_Two year  \\\n",
       "customerID                                                              \n",
       "7590-VHVEG                    0                  0                  0   \n",
       "5575-GNVDE                    0                  1                  0   \n",
       "3668-QPYBK                    0                  0                  0   \n",
       "7795-CFOCW                    0                  1                  0   \n",
       "9237-HQITU                    0                  0                  0   \n",
       "\n",
       "            paperlessbilling_Yes  paymentmethod_Credit card (automatic)  \\\n",
       "customerID                                                                \n",
       "7590-VHVEG                     1                                      0   \n",
       "5575-GNVDE                     0                                      0   \n",
       "3668-QPYBK                     1                                      0   \n",
       "7795-CFOCW                     0                                      0   \n",
       "9237-HQITU                     1                                      0   \n",
       "\n",
       "            paymentmethod_Electronic check  paymentmethod_Mailed check  \n",
       "customerID                                                              \n",
       "7590-VHVEG                               1                           0  \n",
       "5575-GNVDE                               0                           1  \n",
       "3668-QPYBK                               0                           1  \n",
       "7795-CFOCW                               0                           0  \n",
       "9237-HQITU                               1                           0  "
      ]
     },
     "execution_count": 14,
     "metadata": {},
     "output_type": "execute_result"
    }
   ],
   "source": [
    "churn_dummies = pd.get_dummies(churn, columns=o_cols, drop_first=True)\n",
    "churn_dummies.head()"
   ]
  },
  {
   "cell_type": "code",
   "execution_count": 15,
   "metadata": {},
   "outputs": [
    {
     "data": {
      "text/plain": [
       "(7032, 16)"
      ]
     },
     "execution_count": 15,
     "metadata": {},
     "output_type": "execute_result"
    }
   ],
   "source": [
    "#Number of features is reduced from 25 to 16\n",
    "churn_dummies.shape"
=======
    "Remember it's unneccesary for each of the two categories in phoneservices to have each own's column.\n",
    "\n",
    "Even though \"No\" isn't in the dataframe above, it's still represented in the data by virtue of the 0 value under the `phoneservice__Yes` column."
>>>>>>> ad36f43412ef08c839df04c16fc1d64e1b23c0d1
   ]
  },
  {
   "cell_type": "code",
   "execution_count": null,
   "metadata": {},
   "outputs": [],
   "source": []
  },
  {
   "cell_type": "markdown",
   "metadata": {},
   "source": [
<<<<<<< HEAD
    "### Sci-kit Learn way"
   ]
  },
  {
   "cell_type": "markdown",
   "metadata": {},
   "source": [
    "Initialize the one hot encoder object. \n",
    "\n",
    "Set drop = 'first' to avoid dummy variable trap."
   ]
  },
  {
   "cell_type": "code",
   "execution_count": 18,
   "metadata": {},
   "outputs": [],
   "source": [
    "\n",
    "ohe = OneHotEncoder(categories='auto', handle_unknown='error', sparse=False, drop=\"first\")"
   ]
  },
  {
   "cell_type": "code",
   "execution_count": 19,
   "metadata": {},
   "outputs": [
    {
     "data": {
      "text/plain": [
       "(7032, 3)"
      ]
     },
     "execution_count": 19,
     "metadata": {},
     "output_type": "execute_result"
    }
   ],
   "source": [
    "#Fit transform on the paymentmethod variable\n",
    "pm = churn[[\"paymentmethod\"]]\n",
    "pm_ohe = ohe.fit_transform(pm)\n",
    "pm_ohe.shape"
   ]
  },
  {
   "cell_type": "code",
   "execution_count": 20,
   "metadata": {},
   "outputs": [
    {
     "data": {
      "text/plain": [
       "(7032, 13)"
      ]
     },
     "execution_count": 20,
     "metadata": {},
     "output_type": "execute_result"
    }
   ],
   "source": [
    "#Fit transform on the object columns variable\n",
    "o_cols = churn.drop(\"churn\", axis = 1).select_dtypes(\"object\")\n",
    "\n",
    "churn_ohe = ohe.fit_transform(o_cols)\n",
    "churn_ohe.shape"
=======
    "Repeat process for entire set of dummy variables"
>>>>>>> ad36f43412ef08c839df04c16fc1d64e1b23c0d1
   ]
  },
  {
   "cell_type": "code",
<<<<<<< HEAD
   "execution_count": 24,
=======
   "execution_count": 15,
>>>>>>> ad36f43412ef08c839df04c16fc1d64e1b23c0d1
   "metadata": {},
   "outputs": [
    {
     "data": {
      "text/html": [
       "<div>\n",
       "<style scoped>\n",
       "    .dataframe tbody tr th:only-of-type {\n",
       "        vertical-align: middle;\n",
       "    }\n",
       "\n",
       "    .dataframe tbody tr th {\n",
       "        vertical-align: top;\n",
       "    }\n",
       "\n",
       "    .dataframe thead th {\n",
       "        text-align: right;\n",
       "    }\n",
       "</style>\n",
       "<table border=\"1\" class=\"dataframe\">\n",
       "  <thead>\n",
       "    <tr style=\"text-align: right;\">\n",
       "      <th></th>\n",
<<<<<<< HEAD
       "      <th>x0_Yes</th>\n",
       "      <th>x1_Fiber optic</th>\n",
       "      <th>x1_No</th>\n",
       "      <th>x2_Yes</th>\n",
       "      <th>x3_Yes</th>\n",
       "      <th>x4_Yes</th>\n",
       "      <th>x5_Yes</th>\n",
       "      <th>x6_One year</th>\n",
       "      <th>x6_Two year</th>\n",
       "      <th>x7_Yes</th>\n",
       "      <th>x8_Credit card (automatic)</th>\n",
       "      <th>x8_Electronic check</th>\n",
       "      <th>x8_Mailed check</th>\n",
=======
       "      <th>churn</th>\n",
       "      <th>tenure</th>\n",
       "      <th>monthlycharges</th>\n",
       "      <th>phoneservice_Yes</th>\n",
       "      <th>internetservice_Fiber optic</th>\n",
       "      <th>internetservice_No</th>\n",
       "      <th>onlinesecurity_Yes</th>\n",
       "      <th>techsupport_Yes</th>\n",
       "      <th>streamingtv_Yes</th>\n",
       "      <th>streamingmovies_Yes</th>\n",
       "      <th>contract_One year</th>\n",
       "      <th>contract_Two year</th>\n",
       "      <th>paperlessbilling_Yes</th>\n",
       "      <th>paymentmethod_Credit card (automatic)</th>\n",
       "      <th>paymentmethod_Electronic check</th>\n",
       "      <th>paymentmethod_Mailed check</th>\n",
>>>>>>> ad36f43412ef08c839df04c16fc1d64e1b23c0d1
       "    </tr>\n",
       "    <tr>\n",
       "      <th>customerID</th>\n",
       "      <th></th>\n",
       "      <th></th>\n",
       "      <th></th>\n",
       "      <th></th>\n",
       "      <th></th>\n",
       "      <th></th>\n",
       "      <th></th>\n",
       "      <th></th>\n",
       "      <th></th>\n",
       "      <th></th>\n",
       "      <th></th>\n",
       "      <th></th>\n",
       "      <th></th>\n",
<<<<<<< HEAD
=======
       "      <th></th>\n",
       "      <th></th>\n",
       "      <th></th>\n",
>>>>>>> ad36f43412ef08c839df04c16fc1d64e1b23c0d1
       "    </tr>\n",
       "  </thead>\n",
       "  <tbody>\n",
       "    <tr>\n",
       "      <th>7590-VHVEG</th>\n",
<<<<<<< HEAD
       "      <td>0.0</td>\n",
       "      <td>0.0</td>\n",
       "      <td>0.0</td>\n",
       "      <td>0.0</td>\n",
       "      <td>0.0</td>\n",
       "      <td>0.0</td>\n",
       "      <td>0.0</td>\n",
       "      <td>0.0</td>\n",
       "      <td>0.0</td>\n",
       "      <td>1.0</td>\n",
       "      <td>0.0</td>\n",
       "      <td>1.0</td>\n",
       "      <td>0.0</td>\n",
       "    </tr>\n",
       "    <tr>\n",
       "      <th>5575-GNVDE</th>\n",
       "      <td>1.0</td>\n",
       "      <td>0.0</td>\n",
       "      <td>0.0</td>\n",
       "      <td>1.0</td>\n",
       "      <td>0.0</td>\n",
       "      <td>0.0</td>\n",
       "      <td>0.0</td>\n",
       "      <td>1.0</td>\n",
       "      <td>0.0</td>\n",
       "      <td>0.0</td>\n",
       "      <td>0.0</td>\n",
       "      <td>0.0</td>\n",
       "      <td>1.0</td>\n",
       "    </tr>\n",
       "    <tr>\n",
       "      <th>3668-QPYBK</th>\n",
       "      <td>1.0</td>\n",
       "      <td>0.0</td>\n",
       "      <td>0.0</td>\n",
       "      <td>1.0</td>\n",
       "      <td>0.0</td>\n",
       "      <td>0.0</td>\n",
       "      <td>0.0</td>\n",
       "      <td>0.0</td>\n",
       "      <td>0.0</td>\n",
       "      <td>1.0</td>\n",
       "      <td>0.0</td>\n",
       "      <td>0.0</td>\n",
       "      <td>1.0</td>\n",
       "    </tr>\n",
       "    <tr>\n",
       "      <th>7795-CFOCW</th>\n",
       "      <td>0.0</td>\n",
       "      <td>0.0</td>\n",
       "      <td>0.0</td>\n",
       "      <td>1.0</td>\n",
       "      <td>1.0</td>\n",
       "      <td>0.0</td>\n",
       "      <td>0.0</td>\n",
       "      <td>1.0</td>\n",
       "      <td>0.0</td>\n",
       "      <td>0.0</td>\n",
       "      <td>0.0</td>\n",
       "      <td>0.0</td>\n",
       "      <td>0.0</td>\n",
       "    </tr>\n",
       "    <tr>\n",
       "      <th>9237-HQITU</th>\n",
       "      <td>1.0</td>\n",
       "      <td>1.0</td>\n",
       "      <td>0.0</td>\n",
       "      <td>0.0</td>\n",
       "      <td>0.0</td>\n",
       "      <td>0.0</td>\n",
       "      <td>0.0</td>\n",
       "      <td>0.0</td>\n",
       "      <td>0.0</td>\n",
       "      <td>1.0</td>\n",
       "      <td>0.0</td>\n",
       "      <td>1.0</td>\n",
       "      <td>0.0</td>\n",
=======
       "      <td>No</td>\n",
       "      <td>1</td>\n",
       "      <td>29.85</td>\n",
       "      <td>0</td>\n",
       "      <td>0</td>\n",
       "      <td>0</td>\n",
       "      <td>0</td>\n",
       "      <td>0</td>\n",
       "      <td>0</td>\n",
       "      <td>0</td>\n",
       "      <td>0</td>\n",
       "      <td>0</td>\n",
       "      <td>1</td>\n",
       "      <td>0</td>\n",
       "      <td>1</td>\n",
       "      <td>0</td>\n",
       "    </tr>\n",
       "    <tr>\n",
       "      <th>5575-GNVDE</th>\n",
       "      <td>No</td>\n",
       "      <td>34</td>\n",
       "      <td>56.95</td>\n",
       "      <td>1</td>\n",
       "      <td>0</td>\n",
       "      <td>0</td>\n",
       "      <td>1</td>\n",
       "      <td>0</td>\n",
       "      <td>0</td>\n",
       "      <td>0</td>\n",
       "      <td>1</td>\n",
       "      <td>0</td>\n",
       "      <td>0</td>\n",
       "      <td>0</td>\n",
       "      <td>0</td>\n",
       "      <td>1</td>\n",
       "    </tr>\n",
       "    <tr>\n",
       "      <th>3668-QPYBK</th>\n",
       "      <td>Yes</td>\n",
       "      <td>2</td>\n",
       "      <td>53.85</td>\n",
       "      <td>1</td>\n",
       "      <td>0</td>\n",
       "      <td>0</td>\n",
       "      <td>1</td>\n",
       "      <td>0</td>\n",
       "      <td>0</td>\n",
       "      <td>0</td>\n",
       "      <td>0</td>\n",
       "      <td>0</td>\n",
       "      <td>1</td>\n",
       "      <td>0</td>\n",
       "      <td>0</td>\n",
       "      <td>1</td>\n",
       "    </tr>\n",
       "    <tr>\n",
       "      <th>7795-CFOCW</th>\n",
       "      <td>No</td>\n",
       "      <td>45</td>\n",
       "      <td>42.30</td>\n",
       "      <td>0</td>\n",
       "      <td>0</td>\n",
       "      <td>0</td>\n",
       "      <td>1</td>\n",
       "      <td>1</td>\n",
       "      <td>0</td>\n",
       "      <td>0</td>\n",
       "      <td>1</td>\n",
       "      <td>0</td>\n",
       "      <td>0</td>\n",
       "      <td>0</td>\n",
       "      <td>0</td>\n",
       "      <td>0</td>\n",
       "    </tr>\n",
       "    <tr>\n",
       "      <th>9237-HQITU</th>\n",
       "      <td>Yes</td>\n",
       "      <td>2</td>\n",
       "      <td>70.70</td>\n",
       "      <td>1</td>\n",
       "      <td>1</td>\n",
       "      <td>0</td>\n",
       "      <td>0</td>\n",
       "      <td>0</td>\n",
       "      <td>0</td>\n",
       "      <td>0</td>\n",
       "      <td>0</td>\n",
       "      <td>0</td>\n",
       "      <td>1</td>\n",
       "      <td>0</td>\n",
       "      <td>1</td>\n",
       "      <td>0</td>\n",
>>>>>>> ad36f43412ef08c839df04c16fc1d64e1b23c0d1
       "    </tr>\n",
       "  </tbody>\n",
       "</table>\n",
       "</div>"
      ],
      "text/plain": [
<<<<<<< HEAD
       "            x0_Yes  x1_Fiber optic  x1_No  x2_Yes  x3_Yes  x4_Yes  x5_Yes  \\\n",
       "customerID                                                                  \n",
       "7590-VHVEG     0.0             0.0    0.0     0.0     0.0     0.0     0.0   \n",
       "5575-GNVDE     1.0             0.0    0.0     1.0     0.0     0.0     0.0   \n",
       "3668-QPYBK     1.0             0.0    0.0     1.0     0.0     0.0     0.0   \n",
       "7795-CFOCW     0.0             0.0    0.0     1.0     1.0     0.0     0.0   \n",
       "9237-HQITU     1.0             1.0    0.0     0.0     0.0     0.0     0.0   \n",
       "\n",
       "            x6_One year  x6_Two year  x7_Yes  x8_Credit card (automatic)  \\\n",
       "customerID                                                                 \n",
       "7590-VHVEG          0.0          0.0     1.0                         0.0   \n",
       "5575-GNVDE          1.0          0.0     0.0                         0.0   \n",
       "3668-QPYBK          0.0          0.0     1.0                         0.0   \n",
       "7795-CFOCW          1.0          0.0     0.0                         0.0   \n",
       "9237-HQITU          0.0          0.0     1.0                         0.0   \n",
       "\n",
       "            x8_Electronic check  x8_Mailed check  \n",
       "customerID                                        \n",
       "7590-VHVEG                  1.0              0.0  \n",
       "5575-GNVDE                  0.0              1.0  \n",
       "3668-QPYBK                  0.0              1.0  \n",
       "7795-CFOCW                  0.0              0.0  \n",
       "9237-HQITU                  1.0              0.0  "
      ]
     },
     "execution_count": 24,
=======
       "           churn  tenure  monthlycharges  phoneservice_Yes  \\\n",
       "customerID                                                   \n",
       "7590-VHVEG    No       1           29.85                 0   \n",
       "5575-GNVDE    No      34           56.95                 1   \n",
       "3668-QPYBK   Yes       2           53.85                 1   \n",
       "7795-CFOCW    No      45           42.30                 0   \n",
       "9237-HQITU   Yes       2           70.70                 1   \n",
       "\n",
       "            internetservice_Fiber optic  internetservice_No  \\\n",
       "customerID                                                    \n",
       "7590-VHVEG                            0                   0   \n",
       "5575-GNVDE                            0                   0   \n",
       "3668-QPYBK                            0                   0   \n",
       "7795-CFOCW                            0                   0   \n",
       "9237-HQITU                            1                   0   \n",
       "\n",
       "            onlinesecurity_Yes  techsupport_Yes  streamingtv_Yes  \\\n",
       "customerID                                                         \n",
       "7590-VHVEG                   0                0                0   \n",
       "5575-GNVDE                   1                0                0   \n",
       "3668-QPYBK                   1                0                0   \n",
       "7795-CFOCW                   1                1                0   \n",
       "9237-HQITU                   0                0                0   \n",
       "\n",
       "            streamingmovies_Yes  contract_One year  contract_Two year  \\\n",
       "customerID                                                              \n",
       "7590-VHVEG                    0                  0                  0   \n",
       "5575-GNVDE                    0                  1                  0   \n",
       "3668-QPYBK                    0                  0                  0   \n",
       "7795-CFOCW                    0                  1                  0   \n",
       "9237-HQITU                    0                  0                  0   \n",
       "\n",
       "            paperlessbilling_Yes  paymentmethod_Credit card (automatic)  \\\n",
       "customerID                                                                \n",
       "7590-VHVEG                     1                                      0   \n",
       "5575-GNVDE                     0                                      0   \n",
       "3668-QPYBK                     1                                      0   \n",
       "7795-CFOCW                     0                                      0   \n",
       "9237-HQITU                     1                                      0   \n",
       "\n",
       "            paymentmethod_Electronic check  paymentmethod_Mailed check  \n",
       "customerID                                                              \n",
       "7590-VHVEG                               1                           0  \n",
       "5575-GNVDE                               0                           1  \n",
       "3668-QPYBK                               0                           1  \n",
       "7795-CFOCW                               0                           0  \n",
       "9237-HQITU                               1                           0  "
      ]
     },
     "execution_count": 15,
     "metadata": {},
     "output_type": "execute_result"
    }
   ],
   "source": [
    "churn_dummies = pd.get_dummies(churn, columns=o_cols, drop_first=True)\n",
    "churn_dummies.head()"
   ]
  },
  {
   "cell_type": "code",
   "execution_count": 16,
   "metadata": {},
   "outputs": [
    {
     "data": {
      "text/plain": [
       "(7032, 16)"
      ]
     },
     "execution_count": 16,
>>>>>>> ad36f43412ef08c839df04c16fc1d64e1b23c0d1
     "metadata": {},
     "output_type": "execute_result"
    }
   ],
   "source": [
<<<<<<< HEAD
    "#Make it dataframe\n",
    "churn_ohe = pd.DataFrame(index=churn.index, data=churn_ohe, columns=ohe.get_feature_names())\n",
    "churn_ohe.head()"
=======
    "#Number of features is reduced from 25 to 16\n",
    "churn_dummies.shape"
>>>>>>> ad36f43412ef08c839df04c16fc1d64e1b23c0d1
   ]
  },
  {
   "cell_type": "code",
   "execution_count": 26,
   "metadata": {},
   "outputs": [],
   "source": []
  },
  {
   "cell_type": "code",
   "execution_count": null,
   "metadata": {},
   "outputs": [],
   "source": []
  },
  {
   "cell_type": "markdown",
   "metadata": {},
   "source": [
<<<<<<< HEAD
    "Now let's join this with numerical data"
=======
    "### Sci-kit Learn way"
   ]
  },
  {
   "cell_type": "markdown",
   "metadata": {},
   "source": [
    "Initialize the one hot encoder object. \n",
    "\n",
    "Set drop = 'first' to avoid dummy variable trap."
   ]
  },
  {
   "cell_type": "code",
   "execution_count": 27,
   "metadata": {},
   "outputs": [],
   "source": [
    "\n",
    "ohe = OneHotEncoder(categories='auto', handle_unknown='ignore', sparse=False, drop=\"first\")"
   ]
  },
  {
   "cell_type": "code",
   "execution_count": 25,
   "metadata": {},
   "outputs": [
    {
     "data": {
      "text/plain": [
       "(7032, 3)"
      ]
     },
     "execution_count": 25,
     "metadata": {},
     "output_type": "execute_result"
    }
   ],
   "source": [
    "#Fit transform on the paymentmethod variable\n",
    "pm = churn[[\"paymentmethod\"]]\n",
    "pm_ohe = ohe.fit_transform(pm)\n",
    "pm_ohe.shape"
>>>>>>> ad36f43412ef08c839df04c16fc1d64e1b23c0d1
   ]
  },
  {
   "cell_type": "code",
<<<<<<< HEAD
   "execution_count": 26,
=======
   "execution_count": 54,
>>>>>>> ad36f43412ef08c839df04c16fc1d64e1b23c0d1
   "metadata": {},
   "outputs": [
    {
     "data": {
<<<<<<< HEAD
      "text/html": [
       "<div>\n",
       "<style scoped>\n",
       "    .dataframe tbody tr th:only-of-type {\n",
       "        vertical-align: middle;\n",
       "    }\n",
       "\n",
       "    .dataframe tbody tr th {\n",
       "        vertical-align: top;\n",
       "    }\n",
       "\n",
       "    .dataframe thead th {\n",
       "        text-align: right;\n",
       "    }\n",
       "</style>\n",
       "<table border=\"1\" class=\"dataframe\">\n",
       "  <thead>\n",
       "    <tr style=\"text-align: right;\">\n",
       "      <th></th>\n",
       "      <th>tenure</th>\n",
       "      <th>monthlycharges</th>\n",
       "      <th>x0_Yes</th>\n",
       "      <th>x1_Fiber optic</th>\n",
       "      <th>x1_No</th>\n",
       "      <th>x2_Yes</th>\n",
       "      <th>x3_Yes</th>\n",
       "      <th>x4_Yes</th>\n",
       "      <th>x5_Yes</th>\n",
       "      <th>x6_One year</th>\n",
       "      <th>x6_Two year</th>\n",
       "      <th>x7_Yes</th>\n",
       "      <th>x8_Credit card (automatic)</th>\n",
       "      <th>x8_Electronic check</th>\n",
       "      <th>x8_Mailed check</th>\n",
       "    </tr>\n",
       "    <tr>\n",
       "      <th>customerID</th>\n",
       "      <th></th>\n",
       "      <th></th>\n",
       "      <th></th>\n",
       "      <th></th>\n",
       "      <th></th>\n",
       "      <th></th>\n",
       "      <th></th>\n",
       "      <th></th>\n",
       "      <th></th>\n",
       "      <th></th>\n",
       "      <th></th>\n",
       "      <th></th>\n",
       "      <th></th>\n",
       "      <th></th>\n",
       "      <th></th>\n",
       "    </tr>\n",
       "  </thead>\n",
       "  <tbody>\n",
       "    <tr>\n",
       "      <th>7590-VHVEG</th>\n",
       "      <td>1</td>\n",
       "      <td>29.85</td>\n",
       "      <td>0.0</td>\n",
       "      <td>0.0</td>\n",
       "      <td>0.0</td>\n",
       "      <td>0.0</td>\n",
       "      <td>0.0</td>\n",
       "      <td>0.0</td>\n",
       "      <td>0.0</td>\n",
       "      <td>0.0</td>\n",
       "      <td>0.0</td>\n",
       "      <td>1.0</td>\n",
       "      <td>0.0</td>\n",
       "      <td>1.0</td>\n",
       "      <td>0.0</td>\n",
       "    </tr>\n",
       "    <tr>\n",
       "      <th>5575-GNVDE</th>\n",
       "      <td>34</td>\n",
       "      <td>56.95</td>\n",
       "      <td>1.0</td>\n",
       "      <td>0.0</td>\n",
       "      <td>0.0</td>\n",
       "      <td>1.0</td>\n",
       "      <td>0.0</td>\n",
       "      <td>0.0</td>\n",
       "      <td>0.0</td>\n",
       "      <td>1.0</td>\n",
       "      <td>0.0</td>\n",
       "      <td>0.0</td>\n",
       "      <td>0.0</td>\n",
       "      <td>0.0</td>\n",
       "      <td>1.0</td>\n",
       "    </tr>\n",
       "    <tr>\n",
       "      <th>3668-QPYBK</th>\n",
       "      <td>2</td>\n",
       "      <td>53.85</td>\n",
       "      <td>1.0</td>\n",
       "      <td>0.0</td>\n",
       "      <td>0.0</td>\n",
       "      <td>1.0</td>\n",
       "      <td>0.0</td>\n",
       "      <td>0.0</td>\n",
       "      <td>0.0</td>\n",
       "      <td>0.0</td>\n",
       "      <td>0.0</td>\n",
       "      <td>1.0</td>\n",
       "      <td>0.0</td>\n",
       "      <td>0.0</td>\n",
       "      <td>1.0</td>\n",
       "    </tr>\n",
       "    <tr>\n",
       "      <th>7795-CFOCW</th>\n",
       "      <td>45</td>\n",
       "      <td>42.30</td>\n",
       "      <td>0.0</td>\n",
       "      <td>0.0</td>\n",
       "      <td>0.0</td>\n",
       "      <td>1.0</td>\n",
       "      <td>1.0</td>\n",
       "      <td>0.0</td>\n",
       "      <td>0.0</td>\n",
       "      <td>1.0</td>\n",
       "      <td>0.0</td>\n",
       "      <td>0.0</td>\n",
       "      <td>0.0</td>\n",
       "      <td>0.0</td>\n",
       "      <td>0.0</td>\n",
       "    </tr>\n",
       "    <tr>\n",
       "      <th>9237-HQITU</th>\n",
       "      <td>2</td>\n",
       "      <td>70.70</td>\n",
       "      <td>1.0</td>\n",
       "      <td>1.0</td>\n",
       "      <td>0.0</td>\n",
       "      <td>0.0</td>\n",
       "      <td>0.0</td>\n",
       "      <td>0.0</td>\n",
       "      <td>0.0</td>\n",
       "      <td>0.0</td>\n",
       "      <td>0.0</td>\n",
       "      <td>1.0</td>\n",
       "      <td>0.0</td>\n",
       "      <td>1.0</td>\n",
       "      <td>0.0</td>\n",
       "    </tr>\n",
       "  </tbody>\n",
       "</table>\n",
       "</div>"
      ],
      "text/plain": [
       "            tenure  monthlycharges  x0_Yes  x1_Fiber optic  x1_No  x2_Yes  \\\n",
       "customerID                                                                  \n",
       "7590-VHVEG       1           29.85     0.0             0.0    0.0     0.0   \n",
       "5575-GNVDE      34           56.95     1.0             0.0    0.0     1.0   \n",
       "3668-QPYBK       2           53.85     1.0             0.0    0.0     1.0   \n",
       "7795-CFOCW      45           42.30     0.0             0.0    0.0     1.0   \n",
       "9237-HQITU       2           70.70     1.0             1.0    0.0     0.0   \n",
       "\n",
       "            x3_Yes  x4_Yes  x5_Yes  x6_One year  x6_Two year  x7_Yes  \\\n",
       "customerID                                                             \n",
       "7590-VHVEG     0.0     0.0     0.0          0.0          0.0     1.0   \n",
       "5575-GNVDE     0.0     0.0     0.0          1.0          0.0     0.0   \n",
       "3668-QPYBK     0.0     0.0     0.0          0.0          0.0     1.0   \n",
       "7795-CFOCW     1.0     0.0     0.0          1.0          0.0     0.0   \n",
       "9237-HQITU     0.0     0.0     0.0          0.0          0.0     1.0   \n",
       "\n",
       "            x8_Credit card (automatic)  x8_Electronic check  x8_Mailed check  \n",
       "customerID                                                                    \n",
       "7590-VHVEG                         0.0                  1.0              0.0  \n",
       "5575-GNVDE                         0.0                  0.0              1.0  \n",
       "3668-QPYBK                         0.0                  0.0              1.0  \n",
       "7795-CFOCW                         0.0                  0.0              0.0  \n",
       "9237-HQITU                         0.0                  1.0              0.0  "
      ]
     },
     "execution_count": 26,
=======
      "text/plain": [
       "(7032, 13)"
      ]
     },
     "execution_count": 54,
>>>>>>> ad36f43412ef08c839df04c16fc1d64e1b23c0d1
     "metadata": {},
     "output_type": "execute_result"
    }
   ],
<<<<<<< HEAD
   "source": [
    "#Concatenate X_num and with churn_ohe.\n",
    "#Set axis = 1 to do a side by side concatenation\n",
    "X = pd.concat([X_num, churn_ohe], axis = 1)\n",
    "X.head()"
=======
   "source": [
    "#Fit transform on the object columns variable\n",
    "o_cols = churn.drop(\"churn\", axis = 1).select_dtypes(\"object\")\n",
    "\n",
    "churn_ohe = ohe.fit_transform(o_cols)\n",
    "churn_ohe.shape"
   ]
  },
  {
   "cell_type": "code",
   "execution_count": 55,
   "metadata": {},
   "outputs": [],
   "source": [
    "#Make it dataframe\n",
    "churn_ohe = pd.DataFrame(index=churn.index, data=churn_ohe, columns=ohe.get_feature_names_out())"
>>>>>>> ad36f43412ef08c839df04c16fc1d64e1b23c0d1
   ]
  },
  {
   "cell_type": "code",
   "execution_count": null,
   "metadata": {},
   "outputs": [],
   "source": []
  },
  {
   "cell_type": "markdown",
   "metadata": {},
   "source": [
<<<<<<< HEAD
    "**Now we are ready to do some modeling**"
=======
    "Our fully one-hotencoded dataset"
   ]
  },
  {
   "cell_type": "code",
   "execution_count": 52,
   "metadata": {},
   "outputs": [
    {
     "data": {
      "text/html": [
       "<div>\n",
       "<style scoped>\n",
       "    .dataframe tbody tr th:only-of-type {\n",
       "        vertical-align: middle;\n",
       "    }\n",
       "\n",
       "    .dataframe tbody tr th {\n",
       "        vertical-align: top;\n",
       "    }\n",
       "\n",
       "    .dataframe thead th {\n",
       "        text-align: right;\n",
       "    }\n",
       "</style>\n",
       "<table border=\"1\" class=\"dataframe\">\n",
       "  <thead>\n",
       "    <tr style=\"text-align: right;\">\n",
       "      <th></th>\n",
       "      <th>phoneservice_Yes</th>\n",
       "      <th>internetservice_Fiber optic</th>\n",
       "      <th>internetservice_No</th>\n",
       "      <th>onlinesecurity_Yes</th>\n",
       "      <th>techsupport_Yes</th>\n",
       "      <th>streamingtv_Yes</th>\n",
       "      <th>streamingmovies_Yes</th>\n",
       "      <th>contract_One year</th>\n",
       "      <th>contract_Two year</th>\n",
       "      <th>paperlessbilling_Yes</th>\n",
       "      <th>paymentmethod_Credit card (automatic)</th>\n",
       "      <th>paymentmethod_Electronic check</th>\n",
       "      <th>paymentmethod_Mailed check</th>\n",
       "    </tr>\n",
       "    <tr>\n",
       "      <th>customerID</th>\n",
       "      <th></th>\n",
       "      <th></th>\n",
       "      <th></th>\n",
       "      <th></th>\n",
       "      <th></th>\n",
       "      <th></th>\n",
       "      <th></th>\n",
       "      <th></th>\n",
       "      <th></th>\n",
       "      <th></th>\n",
       "      <th></th>\n",
       "      <th></th>\n",
       "      <th></th>\n",
       "    </tr>\n",
       "  </thead>\n",
       "  <tbody>\n",
       "    <tr>\n",
       "      <th>7590-VHVEG</th>\n",
       "      <td>0.0</td>\n",
       "      <td>0.0</td>\n",
       "      <td>0.0</td>\n",
       "      <td>0.0</td>\n",
       "      <td>0.0</td>\n",
       "      <td>0.0</td>\n",
       "      <td>0.0</td>\n",
       "      <td>0.0</td>\n",
       "      <td>0.0</td>\n",
       "      <td>1.0</td>\n",
       "      <td>0.0</td>\n",
       "      <td>1.0</td>\n",
       "      <td>0.0</td>\n",
       "    </tr>\n",
       "    <tr>\n",
       "      <th>5575-GNVDE</th>\n",
       "      <td>1.0</td>\n",
       "      <td>0.0</td>\n",
       "      <td>0.0</td>\n",
       "      <td>1.0</td>\n",
       "      <td>0.0</td>\n",
       "      <td>0.0</td>\n",
       "      <td>0.0</td>\n",
       "      <td>1.0</td>\n",
       "      <td>0.0</td>\n",
       "      <td>0.0</td>\n",
       "      <td>0.0</td>\n",
       "      <td>0.0</td>\n",
       "      <td>1.0</td>\n",
       "    </tr>\n",
       "    <tr>\n",
       "      <th>3668-QPYBK</th>\n",
       "      <td>1.0</td>\n",
       "      <td>0.0</td>\n",
       "      <td>0.0</td>\n",
       "      <td>1.0</td>\n",
       "      <td>0.0</td>\n",
       "      <td>0.0</td>\n",
       "      <td>0.0</td>\n",
       "      <td>0.0</td>\n",
       "      <td>0.0</td>\n",
       "      <td>1.0</td>\n",
       "      <td>0.0</td>\n",
       "      <td>0.0</td>\n",
       "      <td>1.0</td>\n",
       "    </tr>\n",
       "    <tr>\n",
       "      <th>7795-CFOCW</th>\n",
       "      <td>0.0</td>\n",
       "      <td>0.0</td>\n",
       "      <td>0.0</td>\n",
       "      <td>1.0</td>\n",
       "      <td>1.0</td>\n",
       "      <td>0.0</td>\n",
       "      <td>0.0</td>\n",
       "      <td>1.0</td>\n",
       "      <td>0.0</td>\n",
       "      <td>0.0</td>\n",
       "      <td>0.0</td>\n",
       "      <td>0.0</td>\n",
       "      <td>0.0</td>\n",
       "    </tr>\n",
       "    <tr>\n",
       "      <th>9237-HQITU</th>\n",
       "      <td>1.0</td>\n",
       "      <td>1.0</td>\n",
       "      <td>0.0</td>\n",
       "      <td>0.0</td>\n",
       "      <td>0.0</td>\n",
       "      <td>0.0</td>\n",
       "      <td>0.0</td>\n",
       "      <td>0.0</td>\n",
       "      <td>0.0</td>\n",
       "      <td>1.0</td>\n",
       "      <td>0.0</td>\n",
       "      <td>1.0</td>\n",
       "      <td>0.0</td>\n",
       "    </tr>\n",
       "  </tbody>\n",
       "</table>\n",
       "</div>"
      ],
      "text/plain": [
       "            phoneservice_Yes  internetservice_Fiber optic  internetservice_No  \\\n",
       "customerID                                                                      \n",
       "7590-VHVEG               0.0                          0.0                 0.0   \n",
       "5575-GNVDE               1.0                          0.0                 0.0   \n",
       "3668-QPYBK               1.0                          0.0                 0.0   \n",
       "7795-CFOCW               0.0                          0.0                 0.0   \n",
       "9237-HQITU               1.0                          1.0                 0.0   \n",
       "\n",
       "            onlinesecurity_Yes  techsupport_Yes  streamingtv_Yes  \\\n",
       "customerID                                                         \n",
       "7590-VHVEG                 0.0              0.0              0.0   \n",
       "5575-GNVDE                 1.0              0.0              0.0   \n",
       "3668-QPYBK                 1.0              0.0              0.0   \n",
       "7795-CFOCW                 1.0              1.0              0.0   \n",
       "9237-HQITU                 0.0              0.0              0.0   \n",
       "\n",
       "            streamingmovies_Yes  contract_One year  contract_Two year  \\\n",
       "customerID                                                              \n",
       "7590-VHVEG                  0.0                0.0                0.0   \n",
       "5575-GNVDE                  0.0                1.0                0.0   \n",
       "3668-QPYBK                  0.0                0.0                0.0   \n",
       "7795-CFOCW                  0.0                1.0                0.0   \n",
       "9237-HQITU                  0.0                0.0                0.0   \n",
       "\n",
       "            paperlessbilling_Yes  paymentmethod_Credit card (automatic)  \\\n",
       "customerID                                                                \n",
       "7590-VHVEG                   1.0                                    0.0   \n",
       "5575-GNVDE                   0.0                                    0.0   \n",
       "3668-QPYBK                   1.0                                    0.0   \n",
       "7795-CFOCW                   0.0                                    0.0   \n",
       "9237-HQITU                   1.0                                    0.0   \n",
       "\n",
       "            paymentmethod_Electronic check  paymentmethod_Mailed check  \n",
       "customerID                                                              \n",
       "7590-VHVEG                             1.0                         0.0  \n",
       "5575-GNVDE                             0.0                         1.0  \n",
       "3668-QPYBK                             0.0                         1.0  \n",
       "7795-CFOCW                             0.0                         0.0  \n",
       "9237-HQITU                             1.0                         0.0  "
      ]
     },
     "execution_count": 52,
     "metadata": {},
     "output_type": "execute_result"
    }
   ],
   "source": [
    "cp_ohe.head()"
>>>>>>> ad36f43412ef08c839df04c16fc1d64e1b23c0d1
   ]
  },
  {
   "cell_type": "code",
   "execution_count": null,
   "metadata": {},
   "outputs": [],
   "source": []
  },
  {
   "cell_type": "markdown",
   "metadata": {},
<<<<<<< HEAD
   "source": [
    "### Modeling with Logistic Regression"
=======
   "source": [
    "Now let's join this with numerical data"
   ]
  },
  {
   "cell_type": "code",
   "execution_count": 56,
   "metadata": {},
   "outputs": [
    {
     "data": {
      "text/html": [
       "<div>\n",
       "<style scoped>\n",
       "    .dataframe tbody tr th:only-of-type {\n",
       "        vertical-align: middle;\n",
       "    }\n",
       "\n",
       "    .dataframe tbody tr th {\n",
       "        vertical-align: top;\n",
       "    }\n",
       "\n",
       "    .dataframe thead th {\n",
       "        text-align: right;\n",
       "    }\n",
       "</style>\n",
       "<table border=\"1\" class=\"dataframe\">\n",
       "  <thead>\n",
       "    <tr style=\"text-align: right;\">\n",
       "      <th></th>\n",
       "      <th>tenure</th>\n",
       "      <th>monthlycharges</th>\n",
       "      <th>phoneservice_Yes</th>\n",
       "      <th>internetservice_Fiber optic</th>\n",
       "      <th>internetservice_No</th>\n",
       "      <th>onlinesecurity_Yes</th>\n",
       "      <th>techsupport_Yes</th>\n",
       "      <th>streamingtv_Yes</th>\n",
       "      <th>streamingmovies_Yes</th>\n",
       "      <th>contract_One year</th>\n",
       "      <th>contract_Two year</th>\n",
       "      <th>paperlessbilling_Yes</th>\n",
       "      <th>paymentmethod_Credit card (automatic)</th>\n",
       "      <th>paymentmethod_Electronic check</th>\n",
       "      <th>paymentmethod_Mailed check</th>\n",
       "    </tr>\n",
       "    <tr>\n",
       "      <th>customerID</th>\n",
       "      <th></th>\n",
       "      <th></th>\n",
       "      <th></th>\n",
       "      <th></th>\n",
       "      <th></th>\n",
       "      <th></th>\n",
       "      <th></th>\n",
       "      <th></th>\n",
       "      <th></th>\n",
       "      <th></th>\n",
       "      <th></th>\n",
       "      <th></th>\n",
       "      <th></th>\n",
       "      <th></th>\n",
       "      <th></th>\n",
       "    </tr>\n",
       "  </thead>\n",
       "  <tbody>\n",
       "    <tr>\n",
       "      <th>7590-VHVEG</th>\n",
       "      <td>1</td>\n",
       "      <td>29.85</td>\n",
       "      <td>0.0</td>\n",
       "      <td>0.0</td>\n",
       "      <td>0.0</td>\n",
       "      <td>0.0</td>\n",
       "      <td>0.0</td>\n",
       "      <td>0.0</td>\n",
       "      <td>0.0</td>\n",
       "      <td>0.0</td>\n",
       "      <td>0.0</td>\n",
       "      <td>1.0</td>\n",
       "      <td>0.0</td>\n",
       "      <td>1.0</td>\n",
       "      <td>0.0</td>\n",
       "    </tr>\n",
       "    <tr>\n",
       "      <th>5575-GNVDE</th>\n",
       "      <td>34</td>\n",
       "      <td>56.95</td>\n",
       "      <td>1.0</td>\n",
       "      <td>0.0</td>\n",
       "      <td>0.0</td>\n",
       "      <td>1.0</td>\n",
       "      <td>0.0</td>\n",
       "      <td>0.0</td>\n",
       "      <td>0.0</td>\n",
       "      <td>1.0</td>\n",
       "      <td>0.0</td>\n",
       "      <td>0.0</td>\n",
       "      <td>0.0</td>\n",
       "      <td>0.0</td>\n",
       "      <td>1.0</td>\n",
       "    </tr>\n",
       "    <tr>\n",
       "      <th>3668-QPYBK</th>\n",
       "      <td>2</td>\n",
       "      <td>53.85</td>\n",
       "      <td>1.0</td>\n",
       "      <td>0.0</td>\n",
       "      <td>0.0</td>\n",
       "      <td>1.0</td>\n",
       "      <td>0.0</td>\n",
       "      <td>0.0</td>\n",
       "      <td>0.0</td>\n",
       "      <td>0.0</td>\n",
       "      <td>0.0</td>\n",
       "      <td>1.0</td>\n",
       "      <td>0.0</td>\n",
       "      <td>0.0</td>\n",
       "      <td>1.0</td>\n",
       "    </tr>\n",
       "    <tr>\n",
       "      <th>7795-CFOCW</th>\n",
       "      <td>45</td>\n",
       "      <td>42.30</td>\n",
       "      <td>0.0</td>\n",
       "      <td>0.0</td>\n",
       "      <td>0.0</td>\n",
       "      <td>1.0</td>\n",
       "      <td>1.0</td>\n",
       "      <td>0.0</td>\n",
       "      <td>0.0</td>\n",
       "      <td>1.0</td>\n",
       "      <td>0.0</td>\n",
       "      <td>0.0</td>\n",
       "      <td>0.0</td>\n",
       "      <td>0.0</td>\n",
       "      <td>0.0</td>\n",
       "    </tr>\n",
       "    <tr>\n",
       "      <th>9237-HQITU</th>\n",
       "      <td>2</td>\n",
       "      <td>70.70</td>\n",
       "      <td>1.0</td>\n",
       "      <td>1.0</td>\n",
       "      <td>0.0</td>\n",
       "      <td>0.0</td>\n",
       "      <td>0.0</td>\n",
       "      <td>0.0</td>\n",
       "      <td>0.0</td>\n",
       "      <td>0.0</td>\n",
       "      <td>0.0</td>\n",
       "      <td>1.0</td>\n",
       "      <td>0.0</td>\n",
       "      <td>1.0</td>\n",
       "      <td>0.0</td>\n",
       "    </tr>\n",
       "  </tbody>\n",
       "</table>\n",
       "</div>"
      ],
      "text/plain": [
       "            tenure  monthlycharges  phoneservice_Yes  \\\n",
       "customerID                                             \n",
       "7590-VHVEG       1           29.85               0.0   \n",
       "5575-GNVDE      34           56.95               1.0   \n",
       "3668-QPYBK       2           53.85               1.0   \n",
       "7795-CFOCW      45           42.30               0.0   \n",
       "9237-HQITU       2           70.70               1.0   \n",
       "\n",
       "            internetservice_Fiber optic  internetservice_No  \\\n",
       "customerID                                                    \n",
       "7590-VHVEG                          0.0                 0.0   \n",
       "5575-GNVDE                          0.0                 0.0   \n",
       "3668-QPYBK                          0.0                 0.0   \n",
       "7795-CFOCW                          0.0                 0.0   \n",
       "9237-HQITU                          1.0                 0.0   \n",
       "\n",
       "            onlinesecurity_Yes  techsupport_Yes  streamingtv_Yes  \\\n",
       "customerID                                                         \n",
       "7590-VHVEG                 0.0              0.0              0.0   \n",
       "5575-GNVDE                 1.0              0.0              0.0   \n",
       "3668-QPYBK                 1.0              0.0              0.0   \n",
       "7795-CFOCW                 1.0              1.0              0.0   \n",
       "9237-HQITU                 0.0              0.0              0.0   \n",
       "\n",
       "            streamingmovies_Yes  contract_One year  contract_Two year  \\\n",
       "customerID                                                              \n",
       "7590-VHVEG                  0.0                0.0                0.0   \n",
       "5575-GNVDE                  0.0                1.0                0.0   \n",
       "3668-QPYBK                  0.0                0.0                0.0   \n",
       "7795-CFOCW                  0.0                1.0                0.0   \n",
       "9237-HQITU                  0.0                0.0                0.0   \n",
       "\n",
       "            paperlessbilling_Yes  paymentmethod_Credit card (automatic)  \\\n",
       "customerID                                                                \n",
       "7590-VHVEG                   1.0                                    0.0   \n",
       "5575-GNVDE                   0.0                                    0.0   \n",
       "3668-QPYBK                   1.0                                    0.0   \n",
       "7795-CFOCW                   0.0                                    0.0   \n",
       "9237-HQITU                   1.0                                    0.0   \n",
       "\n",
       "            paymentmethod_Electronic check  paymentmethod_Mailed check  \n",
       "customerID                                                              \n",
       "7590-VHVEG                             1.0                         0.0  \n",
       "5575-GNVDE                             0.0                         1.0  \n",
       "3668-QPYBK                             0.0                         1.0  \n",
       "7795-CFOCW                             0.0                         0.0  \n",
       "9237-HQITU                             1.0                         0.0  "
      ]
     },
     "execution_count": 56,
     "metadata": {},
     "output_type": "execute_result"
    }
   ],
   "source": [
    "#Concatenate X_num and with churn_ohe.\n",
    "#Set axis = 1 to do a side by side concatenation\n",
    "X = pd.concat([X_num, churn_ohe], axis = 1)\n",
    "X.head()"
>>>>>>> ad36f43412ef08c839df04c16fc1d64e1b23c0d1
   ]
  },
  {
   "cell_type": "code",
   "execution_count": null,
   "metadata": {},
   "outputs": [],
   "source": []
  },
  {
   "cell_type": "markdown",
   "metadata": {},
   "source": [
<<<<<<< HEAD
    "Before we train our model we have to do a train test split.\n",
    "\n",
    "- We use test size of 25%\n",
    "- Set stratify = y to produce the same class proportions in both datasets"
   ]
  },
  {
   "cell_type": "code",
   "execution_count": 27,
   "metadata": {},
   "outputs": [],
   "source": [
    "X_train, X_test, y_train, y_test = train_test_split(X, y, test_size = .25, stratify=y)"
=======
    "**Now we are ready to do some modeling**"
>>>>>>> ad36f43412ef08c839df04c16fc1d64e1b23c0d1
   ]
  },
  {
   "cell_type": "code",
   "execution_count": null,
   "metadata": {},
   "outputs": [],
   "source": []
  },
  {
   "cell_type": "markdown",
   "metadata": {},
<<<<<<< HEAD
   "source": [
    "1. Initialize Model\n",
    "2. Fit model on training data\n",
    "3. Evaluate on training and testing datasets"
   ]
  },
  {
   "cell_type": "code",
   "execution_count": 28,
   "metadata": {},
   "outputs": [
    {
     "data": {
      "text/plain": [
       "LogisticRegression(max_iter=170)"
      ]
     },
     "execution_count": 28,
     "metadata": {},
     "output_type": "execute_result"
    }
   ],
   "source": [
    "lr = LogisticRegression(max_iter=170)\n",
    "lr.fit(X_train, y_train)"
   ]
  },
  {
   "cell_type": "code",
   "execution_count": 29,
   "metadata": {},
   "outputs": [
    {
     "name": "stdout",
     "output_type": "stream",
     "text": [
      "Training score = 0.798, testing score = 0.802\n"
     ]
    }
   ],
   "source": [
    "train_score = lr.score(X_train, y_train)\n",
    "test_score = lr.score(X_test, y_test)\n",
    "\n",
    "print(\"Training score = {}, testing score = {}\".format(train_score.round(3), test_score.round(3)))"
=======
   "source": [
    "### Modeling with Logistic Regression"
>>>>>>> ad36f43412ef08c839df04c16fc1d64e1b23c0d1
   ]
  },
  {
   "cell_type": "code",
   "execution_count": null,
   "metadata": {},
   "outputs": [],
   "source": []
  },
  {
   "cell_type": "markdown",
   "metadata": {},
   "source": [
<<<<<<< HEAD
    "**How well did we do? Is the model overfit?**"
=======
    "Before we train our model we have to do a train test split.\n",
    "\n",
    "- We use test size of 25%\n",
    "- Set stratify = y to produce the same class proportions in both datasets"
   ]
  },
  {
   "cell_type": "code",
   "execution_count": 59,
   "metadata": {},
   "outputs": [],
   "source": [
    "X_train, X_test, y_train, y_test = train_test_split(X, y, test_size = .25, stratify=y)"
>>>>>>> ad36f43412ef08c839df04c16fc1d64e1b23c0d1
   ]
  },
  {
   "cell_type": "code",
   "execution_count": null,
   "metadata": {},
   "outputs": [],
   "source": []
  },
  {
<<<<<<< HEAD
   "cell_type": "code",
   "execution_count": null,
   "metadata": {},
   "outputs": [],
   "source": []
  },
  {
   "cell_type": "markdown",
   "metadata": {},
   "source": [
    "However, we've only done a single train test split, there could be bias in how we split the data so we need to execute multiple splits and trainings to make sure our results are representative of what we're trying to model.\n",
    "\n",
    "This is referred to as kfold cross-validation."
   ]
  },
  {
   "cell_type": "markdown",
   "metadata": {},
   "source": [
    "![](https://scikit-learn.org/stable/_images/grid_search_cross_validation.png)"
=======
   "cell_type": "markdown",
   "metadata": {},
   "source": [
    "1. Initialize Model\n",
    "2. Fit model on training data\n",
    "3. Evaluate on training and testing datasets"
>>>>>>> ad36f43412ef08c839df04c16fc1d64e1b23c0d1
   ]
  },
  {
   "cell_type": "code",
<<<<<<< HEAD
   "execution_count": 30,
=======
   "execution_count": 66,
>>>>>>> ad36f43412ef08c839df04c16fc1d64e1b23c0d1
   "metadata": {},
   "outputs": [
    {
     "data": {
      "text/plain": [
<<<<<<< HEAD
       "array([0.80454869, 0.80597015, 0.78733997, 0.79943101, 0.79587482])"
      ]
     },
     "execution_count": 30,
=======
       "LogisticRegression(max_iter=170)"
      ]
     },
     "execution_count": 66,
>>>>>>> ad36f43412ef08c839df04c16fc1d64e1b23c0d1
     "metadata": {},
     "output_type": "execute_result"
    }
   ],
   "source": [
<<<<<<< HEAD
    "#Initialize KFold object with\n",
    "kf = KFold(n_splits=5)\n",
    "\n",
    "#Run cross_val_score function\n",
    "cv_results = cross_val_score(LogisticRegression(max_iter=400), X, y, cv=kf, scoring=\"accuracy\")\n",
    "cv_results\n"
=======
    "lr = LogisticRegression(max_iter=170)\n",
    "lr.fit(X_train, y_train)"
>>>>>>> ad36f43412ef08c839df04c16fc1d64e1b23c0d1
   ]
  },
  {
   "cell_type": "code",
<<<<<<< HEAD
   "execution_count": 31,
   "metadata": {},
   "outputs": [
    {
     "data": {
      "text/plain": [
       "0.7986329276195734"
      ]
     },
     "execution_count": 31,
     "metadata": {},
     "output_type": "execute_result"
    }
   ],
   "source": [
    "cv_results.mean()"
=======
   "execution_count": 68,
   "metadata": {},
   "outputs": [
    {
     "name": "stdout",
     "output_type": "stream",
     "text": [
      "Training score = 0.801, testing score = 0.796\n"
     ]
    }
   ],
   "source": [
    "train_score = lr.score(X_train, y_train)\n",
    "test_score = lr.score(X_test, y_test)\n",
    "\n",
    "print(\"Training score = {}, testing score = {}\".format(train_score.round(3), test_score.round(3)))"
>>>>>>> ad36f43412ef08c839df04c16fc1d64e1b23c0d1
   ]
  },
  {
   "cell_type": "code",
   "execution_count": null,
   "metadata": {},
   "outputs": [],
   "source": []
  },
  {
   "cell_type": "markdown",
   "metadata": {},
   "source": [
<<<<<<< HEAD
    "**What does this tell us about the performance of our model?**"
=======
    "**How well did we do? Is the model overfit?**"
>>>>>>> ad36f43412ef08c839df04c16fc1d64e1b23c0d1
   ]
  },
  {
   "cell_type": "code",
   "execution_count": null,
   "metadata": {},
   "outputs": [],
   "source": []
  },
  {
   "cell_type": "code",
   "execution_count": null,
   "metadata": {},
   "outputs": [],
   "source": []
  },
  {
<<<<<<< HEAD
   "cell_type": "code",
   "execution_count": null,
   "metadata": {},
   "outputs": [],
   "source": []
  },
  {
   "cell_type": "markdown",
   "metadata": {},
   "source": [
    "#### Model Interpretation\n",
    "\n",
    "Let's look at the coefficients to understand what affects churn."
   ]
  },
  {
   "cell_type": "code",
   "execution_count": 32,
   "metadata": {},
   "outputs": [
    {
     "data": {
      "text/plain": [
       "LogisticRegression(max_iter=300)"
      ]
     },
     "execution_count": 32,
     "metadata": {},
     "output_type": "execute_result"
    }
   ],
   "source": [
    "#Retrain model\n",
    "\n",
    "lr = LogisticRegression(max_iter=300)\n",
    "lr.fit(X_train, y_train)"
=======
   "cell_type": "markdown",
   "metadata": {},
   "source": [
    "However, we've only done a single train test split, there could be bias in how we split the data so we need to execute multiple splits and trainings to make sure our results are representative of what we're trying to model.\n",
    "\n",
    "This is referred to as kfold cross-validation."
   ]
  },
  {
   "cell_type": "markdown",
   "metadata": {},
   "source": [
    "![](https://scikit-learn.org/stable/_images/grid_search_cross_validation.png)"
>>>>>>> ad36f43412ef08c839df04c16fc1d64e1b23c0d1
   ]
  },
  {
   "cell_type": "code",
<<<<<<< HEAD
   "execution_count": 33,
=======
   "execution_count": 73,
>>>>>>> ad36f43412ef08c839df04c16fc1d64e1b23c0d1
   "metadata": {},
   "outputs": [
    {
     "data": {
      "text/plain": [
<<<<<<< HEAD
       "array([[-0.03293799,  0.01200578, -0.68066802,  0.66250061, -0.59698269,\n",
       "        -0.49938764, -0.424693  ,  0.16909197,  0.11593115, -0.76832998,\n",
       "        -1.35036354,  0.35516166, -0.04772461,  0.29194219, -0.03643844]])"
      ]
     },
     "execution_count": 33,
=======
       "array([0.80454869, 0.80597015, 0.78733997, 0.79943101, 0.79587482])"
      ]
     },
     "execution_count": 73,
>>>>>>> ad36f43412ef08c839df04c16fc1d64e1b23c0d1
     "metadata": {},
     "output_type": "execute_result"
    }
   ],
   "source": [
<<<<<<< HEAD
    "#Here's how to grab the coefficients\n",
    "lr.coef_"
   ]
  },
  {
   "cell_type": "markdown",
   "metadata": {},
   "source": [
    "Organize the coefficients and feature names into a pandas series"
   ]
  },
  {
   "cell_type": "code",
   "execution_count": 34,
   "metadata": {},
   "outputs": [],
   "source": [
    "coef = pd.Series(index= X.columns, data=lr.coef_[0])"
=======
    "#Initialize KFold object with\n",
    "kf = KFold(n_splits=5)\n",
    "\n",
    "#Run cross_val_score function\n",
    "cv_results = cross_val_score(LogisticRegression(max_iter=400), X, y, cv=kf, scoring=\"accuracy\")\n",
    "cv_results\n"
>>>>>>> ad36f43412ef08c839df04c16fc1d64e1b23c0d1
   ]
  },
  {
   "cell_type": "code",
<<<<<<< HEAD
   "execution_count": 35,
=======
   "execution_count": 74,
>>>>>>> ad36f43412ef08c839df04c16fc1d64e1b23c0d1
   "metadata": {},
   "outputs": [
    {
     "data": {
      "text/plain": [
<<<<<<< HEAD
       "x6_Two year                  -1.350364\n",
       "x6_One year                  -0.768330\n",
       "x0_Yes                       -0.680668\n",
       "x1_No                        -0.596983\n",
       "x2_Yes                       -0.499388\n",
       "x3_Yes                       -0.424693\n",
       "x8_Credit card (automatic)   -0.047725\n",
       "x8_Mailed check              -0.036438\n",
       "tenure                       -0.032938\n",
       "monthlycharges                0.012006\n",
       "x5_Yes                        0.115931\n",
       "x4_Yes                        0.169092\n",
       "x8_Electronic check           0.291942\n",
       "x7_Yes                        0.355162\n",
       "x1_Fiber optic                0.662501\n",
       "dtype: float64"
      ]
     },
     "execution_count": 35,
=======
       "0.7986329276195734"
      ]
     },
     "execution_count": 74,
>>>>>>> ad36f43412ef08c839df04c16fc1d64e1b23c0d1
     "metadata": {},
     "output_type": "execute_result"
    }
   ],
<<<<<<< HEAD
   "source": [
    "#Sort coef from least to greatest\n",
    "coef.sort_values()"
   ]
  },
  {
   "cell_type": "markdown",
   "metadata": {},
   "source": [
    "Observations:\n",
    "\n",
    "- A two year contract is the feature most associated not churning.\n",
    "- Having fiber optic internet is the feature most associated with churning."
=======
   "source": [
    "cv_results.mean()"
>>>>>>> ad36f43412ef08c839df04c16fc1d64e1b23c0d1
   ]
  },
  {
   "cell_type": "code",
   "execution_count": null,
   "metadata": {},
   "outputs": [],
   "source": []
  },
  {
   "cell_type": "code",
   "execution_count": null,
   "metadata": {},
   "outputs": [],
   "source": []
  },
  {
   "cell_type": "markdown",
   "metadata": {},
   "source": [
<<<<<<< HEAD
    "#### Model evaluation"
   ]
  },
  {
   "cell_type": "markdown",
   "metadata": {},
   "source": [
    "We've covered accuracy already but there a whole litany of other ways to evaluate the performance of a classification model.\n",
    "\n",
    "$$ Accuracy= \\frac{\\sum{\\text{True Positives}}+\\sum{\\text{True Negatives}}}{\\sum{\\text{Total Population}}}$$"
=======
    "**What does this tell us about the performance of our model?**"
   ]
  },
  {
   "cell_type": "code",
   "execution_count": null,
   "metadata": {},
   "outputs": [],
   "source": []
  },
  {
   "cell_type": "code",
   "execution_count": null,
   "metadata": {},
   "outputs": [],
   "source": []
  },
  {
   "cell_type": "code",
   "execution_count": null,
   "metadata": {},
   "outputs": [],
   "source": []
  },
  {
   "cell_type": "markdown",
   "metadata": {},
   "source": [
    "#### Model Interpretation\n",
    "\n",
    "Let's look at the coefficients to understand what affects churn."
   ]
  },
  {
   "cell_type": "code",
   "execution_count": 76,
   "metadata": {},
   "outputs": [
    {
     "data": {
      "text/plain": [
       "LogisticRegression(max_iter=300)"
      ]
     },
     "execution_count": 76,
     "metadata": {},
     "output_type": "execute_result"
    }
   ],
   "source": [
    "#Retrain model\n",
    "\n",
    "lr = LogisticRegression(max_iter=300)\n",
    "lr.fit(X_train, y_train)"
   ]
  },
  {
   "cell_type": "code",
   "execution_count": 77,
   "metadata": {},
   "outputs": [
    {
     "data": {
      "text/plain": [
       "array([[-0.0347908 ,  0.0116307 , -0.73894356,  0.7720783 , -0.45714621,\n",
       "        -0.51714049, -0.40791314,  0.17570986,  0.16155972, -0.61298527,\n",
       "        -1.40785882,  0.31363198, -0.13243874,  0.27508683, -0.13094531]])"
      ]
     },
     "execution_count": 77,
     "metadata": {},
     "output_type": "execute_result"
    }
   ],
   "source": [
    "#Here's how to grab the coefficients\n",
    "lr.coef_"
   ]
  },
  {
   "cell_type": "markdown",
   "metadata": {},
   "source": [
    "Organize the coefficients and feature names into a pandas series"
   ]
  },
  {
   "cell_type": "code",
   "execution_count": 79,
   "metadata": {},
   "outputs": [],
   "source": [
    "coef = pd.Series(index= X.columns, data=lr.coef_[0])"
   ]
  },
  {
   "cell_type": "code",
   "execution_count": 81,
   "metadata": {},
   "outputs": [
    {
     "data": {
      "text/plain": [
       "contract_Two year                       -1.407859\n",
       "phoneservice_Yes                        -0.738944\n",
       "contract_One year                       -0.612985\n",
       "onlinesecurity_Yes                      -0.517140\n",
       "internetservice_No                      -0.457146\n",
       "techsupport_Yes                         -0.407913\n",
       "paymentmethod_Credit card (automatic)   -0.132439\n",
       "paymentmethod_Mailed check              -0.130945\n",
       "tenure                                  -0.034791\n",
       "monthlycharges                           0.011631\n",
       "streamingmovies_Yes                      0.161560\n",
       "streamingtv_Yes                          0.175710\n",
       "paymentmethod_Electronic check           0.275087\n",
       "paperlessbilling_Yes                     0.313632\n",
       "internetservice_Fiber optic              0.772078\n",
       "dtype: float64"
      ]
     },
     "execution_count": 81,
     "metadata": {},
     "output_type": "execute_result"
    }
   ],
   "source": [
    "#Sort coef from least to greatest\n",
    "coef.sort_values()"
>>>>>>> ad36f43412ef08c839df04c16fc1d64e1b23c0d1
   ]
  },
  {
   "cell_type": "markdown",
   "metadata": {},
   "source": [
<<<<<<< HEAD
    "#### Confusion Matrix\n",
    "\n",
    "\n",
    "<img src='https://www.dataschool.io/content/images/2015/01/confusion_matrix2.png' width=500>\n",
    "\n",
    "\n",
    "\n",
    "[Confusion Matrix (Wikipedia)](https://en.wikipedia.org/wiki/Confusion_matrix): \n",
    "- true positive (TP): A test result that correctly indicates the presence of a condition or characteristic\n",
    "- true negative (TN): A test result that correctly indicates the absence of a condition or characteristic\n",
    "- false positive (FP): A test result which wrongly indicates that a particular condition or attribute is present\n",
    "- false negative (FN): A test result which wrongly indicates that a particular condition or attribute is absent"
=======
    "Observations:\n",
    "\n",
    "- A two year contract is the feature most associated not churning.\n",
    "- Having fiber optic internet is the feature most associated with churning."
>>>>>>> ad36f43412ef08c839df04c16fc1d64e1b23c0d1
   ]
  },
  {
   "cell_type": "code",
   "execution_count": null,
   "metadata": {},
   "outputs": [],
   "source": []
  },
  {
<<<<<<< HEAD
   "cell_type": "markdown",
   "metadata": {},
   "source": [
    "### Challenge\n",
    "\n",
    "Write down what are TP, TN, FP, and FN of the telco churn dataset"
   ]
=======
   "cell_type": "code",
   "execution_count": null,
   "metadata": {},
   "outputs": [],
   "source": []
>>>>>>> ad36f43412ef08c839df04c16fc1d64e1b23c0d1
  },
  {
   "cell_type": "markdown",
   "metadata": {},
   "source": [
<<<<<<< HEAD
    "Answer:\n",
    "    \n",
    "- TP are customers who churn that the model predicted to churn.\n",
    "- TN are customers who did not churn that the model predicted to not churn.\n",
    "- FP are customers who did not churn that the model predicted to churn.\n",
    "- FN are customers who did churn that the model predicted to not churn."
=======
    "#### Model evaluation"
>>>>>>> ad36f43412ef08c839df04c16fc1d64e1b23c0d1
   ]
  },
  {
   "cell_type": "markdown",
   "metadata": {},
<<<<<<< HEAD
   "outputs": [],
   "source": []
=======
   "source": [
    "We've covered accuracy already but there a whole litany of other ways to evaluate the performance of a classification model.\n",
    "\n",
    "$$ Accuracy= \\frac{\\sum{\\text{True Positives}}+\\sum{\\text{True Negatives}}}{\\sum{\\text{Total Population}}}$$"
   ]
>>>>>>> ad36f43412ef08c839df04c16fc1d64e1b23c0d1
  },
  {
   "cell_type": "markdown",
   "metadata": {},
   "source": [
<<<<<<< HEAD
    "\n",
    "1. **Precision**: \n",
    "$$\\frac{\\sum{\\text{True Positives}}}{\\sum{\\text{Predicted Positives}}}$$\n",
    "2. **Recall** (or **Sensitivity**): \n",
    "$$\\frac{\\sum{\\text{True Positives}}}{\\sum{\\text{Condition Positives}}}$$ \n",
    "3. **Specificity** (like recall for negative examples): \n",
    "$$\\frac{\\sum{\\text{True Negatives}}}{\\sum{\\text{Condition Negatives}}}$$\n",
    "\n",
    "\n",
    "\n",
    "\n",
    "<img src='https://upload.wikimedia.org/wikipedia/commons/2/26/Precisionrecall.svg' width=400, height = 300>"
=======
    "#### Confusion Matrix\n",
    "\n",
    "\n",
    "<img src='https://www.dataschool.io/content/images/2015/01/confusion_matrix2.png' width=500>\n",
    "\n",
    "\n",
    "\n",
    "[Confusion Matrix (Wikipedia)](https://en.wikipedia.org/wiki/Confusion_matrix): \n",
    "- true positive (TP): A test result that correctly indicates the presence of a condition or characteristic\n",
    "- true negative (TN): A test result that correctly indicates the absence of a condition or characteristic\n",
    "- false positive (FP): A test result which wrongly indicates that a particular condition or attribute is present\n",
    "- false negative (FN): A test result which wrongly indicates that a particular condition or attribute is absent"
>>>>>>> ad36f43412ef08c839df04c16fc1d64e1b23c0d1
   ]
  },
  {
   "cell_type": "code",
   "execution_count": null,
   "metadata": {},
   "outputs": [],
   "source": []
  },
  {
   "cell_type": "markdown",
   "metadata": {},
   "source": [
<<<<<<< HEAD
    "Let's make a confusion matrix and derive the recall and precision scores."
=======
    "### Challenge\n",
    "\n",
    "Write down what are TP, TN, FP, and FN of the telco churn dataset"
>>>>>>> ad36f43412ef08c839df04c16fc1d64e1b23c0d1
   ]
  },
  {
   "cell_type": "markdown",
   "metadata": {},
   "source": [
<<<<<<< HEAD
    "First let's make predictions from the test dataset"
=======
    "Answer:\n",
    "    \n",
    "- TP are customers who churn that the model predicted to churn.\n",
    "- TN are customers who did not churn that the model predicted to not churn.\n",
    "- FP are customers who did not churn that the model predicted to churn.\n",
    "- FN are customers who did churn that the model predicted to not churn."
>>>>>>> ad36f43412ef08c839df04c16fc1d64e1b23c0d1
   ]
  },
  {
   "cell_type": "code",
   "execution_count": 37,
   "metadata": {},
   "outputs": [],
<<<<<<< HEAD
   "source": [
    "preds = lr.predict(X_test)"
   ]
  },
  {
   "cell_type": "code",
   "execution_count": 38,
   "metadata": {},
   "outputs": [
    {
     "data": {
      "text/plain": [
       "array([[1162,  129],\n",
       "       [ 208,  259]])"
      ]
     },
     "execution_count": 38,
     "metadata": {},
     "output_type": "execute_result"
    }
   ],
   "source": [
    "#Pass y_test and preds into confusion_matrix\n",
    "\n",
    "confusion_matrix(y_test, preds)"
   ]
=======
   "source": []
  },
  {
   "cell_type": "markdown",
   "metadata": {},
   "source": []
>>>>>>> ad36f43412ef08c839df04c16fc1d64e1b23c0d1
  },
  {
   "cell_type": "markdown",
   "metadata": {},
   "source": [
<<<<<<< HEAD
    "How many TP, TN, FN, and FP are there?"
=======
    "\n",
    "1. **Precision**: \n",
    "$$\\frac{\\sum{\\text{True Positives}}}{\\sum{\\text{Predicted Positives}}}$$\n",
    "2. **Recall** (or **Sensitivity**): \n",
    "$$\\frac{\\sum{\\text{True Positives}}}{\\sum{\\text{Condition Positives}}}$$ \n",
    "3. **Specificity** (like recall for negative examples): \n",
    "$$\\frac{\\sum{\\text{True Negatives}}}{\\sum{\\text{Condition Negatives}}}$$\n",
    "\n",
    "\n",
    "\n",
    "\n",
    "<img src='https://upload.wikimedia.org/wikipedia/commons/2/26/Precisionrecall.svg' width=400, height = 300>"
>>>>>>> ad36f43412ef08c839df04c16fc1d64e1b23c0d1
   ]
  },
  {
   "cell_type": "code",
   "execution_count": null,
   "metadata": {},
   "outputs": [],
   "source": []
<<<<<<< HEAD
=======
  },
  {
   "cell_type": "markdown",
   "metadata": {},
   "source": [
    "Let's make a confusion matrix and derive the recall and precision scores."
   ]
>>>>>>> ad36f43412ef08c839df04c16fc1d64e1b23c0d1
  },
  {
   "cell_type": "markdown",
   "metadata": {},
   "source": [
<<<<<<< HEAD
    "Recall score"
=======
    "First let's make predictions from the test dataset"
>>>>>>> ad36f43412ef08c839df04c16fc1d64e1b23c0d1
   ]
  },
  {
   "cell_type": "code",
<<<<<<< HEAD
   "execution_count": 39,
   "metadata": {},
   "outputs": [
    {
     "data": {
      "text/plain": [
       "0.5546038543897216"
      ]
     },
     "execution_count": 39,
     "metadata": {},
     "output_type": "execute_result"
    }
   ],
   "source": [
    "recall_score(y_test, preds)"
=======
   "execution_count": 82,
   "metadata": {},
   "outputs": [],
   "source": [
    "preds = lr.predict(X_test)"
>>>>>>> ad36f43412ef08c839df04c16fc1d64e1b23c0d1
   ]
  },
  {
   "cell_type": "code",
<<<<<<< HEAD
   "execution_count": null,
   "metadata": {},
   "outputs": [],
   "source": []
=======
   "execution_count": 83,
   "metadata": {},
   "outputs": [
    {
     "data": {
      "text/plain": [
       "array([[1159,  132],\n",
       "       [ 227,  240]])"
      ]
     },
     "execution_count": 83,
     "metadata": {},
     "output_type": "execute_result"
    }
   ],
   "source": [
    "#Pass y_test and preds into confusion_matrix\n",
    "\n",
    "confusion_matrix(y_test, preds)"
   ]
  },
  {
   "cell_type": "markdown",
   "metadata": {},
   "source": [
    "How many TP, TN, FN, and FP are there?"
   ]
>>>>>>> ad36f43412ef08c839df04c16fc1d64e1b23c0d1
  },
  {
   "cell_type": "code",
   "execution_count": null,
   "metadata": {},
   "outputs": [],
   "source": []
  },
  {
   "cell_type": "markdown",
   "metadata": {},
   "source": [
<<<<<<< HEAD
    "Precision score"
=======
    "Recall score"
>>>>>>> ad36f43412ef08c839df04c16fc1d64e1b23c0d1
   ]
  },
  {
   "cell_type": "code",
<<<<<<< HEAD
   "execution_count": 40,
=======
   "execution_count": 84,
>>>>>>> ad36f43412ef08c839df04c16fc1d64e1b23c0d1
   "metadata": {},
   "outputs": [
    {
     "data": {
      "text/plain": [
<<<<<<< HEAD
       "0.6675257731958762"
      ]
     },
     "execution_count": 40,
=======
       "0.5139186295503212"
      ]
     },
     "execution_count": 84,
>>>>>>> ad36f43412ef08c839df04c16fc1d64e1b23c0d1
     "metadata": {},
     "output_type": "execute_result"
    }
   ],
   "source": [
<<<<<<< HEAD
    "precision_score(y_test, preds)"
=======
    "recall_score(y_test, preds)"
>>>>>>> ad36f43412ef08c839df04c16fc1d64e1b23c0d1
   ]
  },
  {
   "cell_type": "code",
   "execution_count": null,
   "metadata": {},
   "outputs": [],
   "source": []
  },
  {
   "cell_type": "markdown",
   "metadata": {},
   "source": [
<<<<<<< HEAD
    "**Which score is more important in this scenario?**\n",
    "\n",
    "\n",
    "**Imagine a model that produced scores that were switched, which model is the better one?**"
=======
    "Precision score"
   ]
  },
  {
   "cell_type": "code",
   "execution_count": 85,
   "metadata": {},
   "outputs": [
    {
     "data": {
      "text/plain": [
       "0.6451612903225806"
      ]
     },
     "execution_count": 85,
     "metadata": {},
     "output_type": "execute_result"
    }
   ],
   "source": [
    "precision_score(y_test, preds)"
>>>>>>> ad36f43412ef08c839df04c16fc1d64e1b23c0d1
   ]
  },
  {
   "cell_type": "code",
   "execution_count": null,
   "metadata": {},
   "outputs": [],
   "source": []
  },
  {
   "cell_type": "markdown",
   "metadata": {},
   "source": [
<<<<<<< HEAD
    "#### F1 Score"
=======
    "**Which score is more important in this scenario?**\n",
    "\n",
    "\n",
    "**Imagine a model that produced scores that were switched, which model is the better one?**"
>>>>>>> ad36f43412ef08c839df04c16fc1d64e1b23c0d1
   ]
  },
  {
   "cell_type": "markdown",
   "metadata": {},
<<<<<<< HEAD
   "source": [
    "![](https://images.deepai.org/glossary-terms/b9c8dec8549a4201ae358483cc6bdfa6/fscore.jpg)"
   ]
=======
   "outputs": [],
   "source": []
>>>>>>> ad36f43412ef08c839df04c16fc1d64e1b23c0d1
  },
  {
   "cell_type": "code",
   "execution_count": 41,
   "metadata": {},
   "outputs": [
    {
     "data": {
      "text/plain": [
       "0.6058479532163742"
      ]
     },
     "execution_count": 41,
     "metadata": {},
     "output_type": "execute_result"
    }
   ],
   "source": [
<<<<<<< HEAD
    "f1_score(y_test, preds)"
=======
    "#### F1 Score"
>>>>>>> ad36f43412ef08c839df04c16fc1d64e1b23c0d1
   ]
  },
  {
   "cell_type": "markdown",
   "metadata": {},
<<<<<<< HEAD
   "outputs": [],
   "source": []
  },
  {
   "cell_type": "code",
   "execution_count": null,
   "metadata": {},
   "outputs": [],
   "source": []
=======
   "source": [
    "![](https://images.deepai.org/glossary-terms/b9c8dec8549a4201ae358483cc6bdfa6/fscore.jpg)"
   ]
  },
  {
   "cell_type": "code",
   "execution_count": 87,
   "metadata": {},
   "outputs": [
    {
     "data": {
      "text/plain": [
       "0.5721096543504172"
      ]
     },
     "execution_count": 87,
     "metadata": {},
     "output_type": "execute_result"
    }
   ],
   "source": [
    "f1_score(y_test, preds)"
   ]
>>>>>>> ad36f43412ef08c839df04c16fc1d64e1b23c0d1
  },
  {
   "cell_type": "code",
   "execution_count": null,
   "metadata": {},
   "outputs": [],
   "source": []
<<<<<<< HEAD
  },
  {
   "cell_type": "markdown",
   "metadata": {},
   "source": [
    "## 2) Decision Trees"
   ]
=======
>>>>>>> ad36f43412ef08c839df04c16fc1d64e1b23c0d1
  },
  {
   "cell_type": "code",
   "execution_count": null,
   "metadata": {},
<<<<<<< HEAD
   "source": [
    "![](https://static01.nyt.com/images/2008/04/16/us/0416-nat-subOBAMA.jpg)"
   ]
=======
   "outputs": [],
   "source": []
>>>>>>> ad36f43412ef08c839df04c16fc1d64e1b23c0d1
  },
  {
   "cell_type": "markdown",
   "metadata": {},
<<<<<<< HEAD
   "source": [
    "#### Sci-kit learn decision tree example\n",
    "\n",
    "![](https://www.kdnuggets.com/wp-content/uploads/dt-iris-interpretability.jpg)"
   ]
=======
   "outputs": [],
   "source": []
>>>>>>> ad36f43412ef08c839df04c16fc1d64e1b23c0d1
  },
  {
   "cell_type": "markdown",
   "metadata": {},
   "source": [
<<<<<<< HEAD
    "**Decision Trees** are a classification/regression supervised learning algorithm that uses a series of splits to make its predictions.\n",
    "\n",
    "Decision Trees learn from the data by picking the feature-threshold that maximizes the information gain of the target variable. In other words it chooses a splitting point that produces the most imbalanced/pure proportions in the target variable. The goal of the model is to keep splitting until all the data in a terminal node or leaf are exclusively one class.\n",
    "\n",
    "The information gain is measured with either of the following formulas\n",
    "\n",
    "![](https://miro.medium.com/max/884/1*efLrD1ECWl-utII0KYb7tQ.jpeg)\n",
    "\n",
    "![](https://miro.medium.com/max/884/1*vRlwRFknvfgWLBed1vsGoQ.jpeg)\n",
    "\n",
    "The model iterates through a set of values for each feature and then calculate the information gain for each split and the one that produces the lowest value is the designated split."
=======
    "## 2) Decision Trees"
>>>>>>> ad36f43412ef08c839df04c16fc1d64e1b23c0d1
   ]
  },
  {
   "cell_type": "markdown",
   "metadata": {},
   "source": [
<<<<<<< HEAD
    "**Parameters**\n",
    "\n",
    "criterion: The function to measure the quality of a split. Supported criteria are “gini” for the Gini impurity and “entropy” for the information gain.\n",
    "\n",
    "splitter: The strategy used to choose the split at each node. Supported strategies are “best” to choose the best split and “random” to choose the best random split.\n",
    "\n",
    "max_depth: The maximum depth of the tree. If None, then nodes are expanded until all leaves are pure or until all leaves contain less than min_samples_split samples.\n",
    "\n",
    "min_samples_split: The minimum number of samples required to split an internal node\n",
    "\n",
    "min_samples_leaf: The minimum number of samples required to be at a leaf node. A split point at any depth will only be considered if it leaves at least min_samples_leaf training samples in each of the left and right branches. This may have the effect of smoothing the model, especially in regression.\n",
    "\n",
    "max_features: The number of features to consider when looking for the best split"
=======
    "![](https://static01.nyt.com/images/2008/04/16/us/0416-nat-subOBAMA.jpg)"
>>>>>>> ad36f43412ef08c839df04c16fc1d64e1b23c0d1
   ]
  },
  {
   "cell_type": "markdown",
   "metadata": {},
<<<<<<< HEAD
   "outputs": [],
   "source": []
=======
   "source": [
    "#### Sci-kit learn decision tree example\n",
    "\n",
    "![](https://www.kdnuggets.com/wp-content/uploads/dt-iris-interpretability.jpg)"
   ]
>>>>>>> ad36f43412ef08c839df04c16fc1d64e1b23c0d1
  },
  {
   "cell_type": "markdown",
   "metadata": {},
   "source": [
<<<<<<< HEAD
    "Now let's train a decision tree model on the TelCo Churn dataset."
=======
    "*Explanation of decision trees. Going into detail about how thresholds are determined and how predictions are made*"
>>>>>>> ad36f43412ef08c839df04c16fc1d64e1b23c0d1
   ]
  },
  {
   "cell_type": "markdown",
   "metadata": {},
   "source": [
<<<<<<< HEAD
    "We are going to initialize a default DT model, meaning we're not going to pass in any parameters of our own.\n",
    "\n",
    "And like we did before, we are going to fit a model and then evaluate it on the training and testing datasets"
=======
    "**Parameters**\n",
    "\n",
    "criterion: The function to measure the quality of a split. Supported criteria are “gini” for the Gini impurity and “entropy” for the information gain.\n",
    "\n",
    "splitter: The strategy used to choose the split at each node. Supported strategies are “best” to choose the best split and “random” to choose the best random split.\n",
    "\n",
    "max_depth: The maximum depth of the tree. If None, then nodes are expanded until all leaves are pure or until all leaves contain less than min_samples_split samples.\n",
    "\n",
    "min_samples_split: The minimum number of samples required to split an internal node\n",
    "\n",
    "min_samples_leaf: The minimum number of samples required to be at a leaf node. A split point at any depth will only be considered if it leaves at least min_samples_leaf training samples in each of the left and right branches. This may have the effect of smoothing the model, especially in regression.\n",
    "\n",
    "max_features: The number of features to consider when looking for the best split"
>>>>>>> ad36f43412ef08c839df04c16fc1d64e1b23c0d1
   ]
  },
  {
   "cell_type": "code",
<<<<<<< HEAD
   "execution_count": 43,
   "metadata": {},
   "outputs": [
    {
     "data": {
      "text/plain": [
       "0.9952597648843383"
      ]
     },
     "execution_count": 43,
     "metadata": {},
     "output_type": "execute_result"
    }
   ],
   "source": [
    "#Initialize model\n",
    "dt = DecisionTreeClassifier()\n",
    "\n",
    "#Fit model on the dataset\n",
    "dt.fit(X_train, y_train)\n",
    "\n",
    "#Derive the training accuracy score\n",
    "dt.score(X_train, y_train)"
=======
   "execution_count": null,
   "metadata": {},
   "outputs": [],
   "source": []
  },
  {
   "cell_type": "markdown",
   "metadata": {},
   "source": [
    "Now let's train a decision tree model on the TelCo Churn dataset."
   ]
  },
  {
   "cell_type": "markdown",
   "metadata": {},
   "source": [
    "We are going to initialize a default DT model, meaning we're not going to pass in any parameters of our own.\n",
    "\n",
    "And like we did before, we are going to fit a model and then evaluate it on the training and testing datasets"
>>>>>>> ad36f43412ef08c839df04c16fc1d64e1b23c0d1
   ]
  },
  {
   "cell_type": "code",
<<<<<<< HEAD
=======
   "execution_count": 99,
   "metadata": {},
   "outputs": [
    {
     "data": {
      "text/plain": [
       "0.9945013272658324"
      ]
     },
     "execution_count": 99,
     "metadata": {},
     "output_type": "execute_result"
    }
   ],
   "source": [
    "#Initialize model\n",
    "dt = DecisionTreeClassifier()\n",
    "\n",
    "#Fit model on the dataset\n",
    "dt.fit(X_train, y_train)\n",
    "\n",
    "#Derive the training accuracy score\n",
    "dt.score(X_train, y_train)"
   ]
  },
  {
   "cell_type": "code",
>>>>>>> ad36f43412ef08c839df04c16fc1d64e1b23c0d1
   "execution_count": null,
   "metadata": {},
   "outputs": [],
   "source": []
  },
  {
   "cell_type": "code",
   "execution_count": null,
   "metadata": {},
   "outputs": [],
   "source": []
  },
  {
   "cell_type": "markdown",
   "metadata": {},
   "source": [
    "**Woohoo we got near perfect model!!!**"
   ]
  },
  {
   "cell_type": "code",
   "execution_count": null,
   "metadata": {},
   "outputs": [],
   "source": []
  },
  {
   "cell_type": "code",
   "execution_count": null,
   "metadata": {},
   "outputs": [],
   "source": []
  },
  {
   "cell_type": "code",
   "execution_count": null,
   "metadata": {},
   "outputs": [],
   "source": []
  },
  {
   "cell_type": "markdown",
   "metadata": {},
   "source": [
    "Or did we......??? (Hint: we didn't)"
   ]
  },
  {
   "cell_type": "code",
   "execution_count": null,
   "metadata": {},
   "outputs": [],
   "source": []
  },
  {
   "cell_type": "code",
<<<<<<< HEAD
   "execution_count": 65,
=======
   "execution_count": 102,
>>>>>>> ad36f43412ef08c839df04c16fc1d64e1b23c0d1
   "metadata": {},
   "outputs": [
    {
     "data": {
      "text/plain": [
<<<<<<< HEAD
       "0.7258248009101251"
      ]
     },
     "execution_count": 65,
=======
       "0.7252559726962458"
      ]
     },
     "execution_count": 102,
>>>>>>> ad36f43412ef08c839df04c16fc1d64e1b23c0d1
     "metadata": {},
     "output_type": "execute_result"
    }
   ],
   "source": [
    "#testing score\n",
    "dt.score(X_test, y_test)"
   ]
  },
  {
   "cell_type": "code",
   "execution_count": null,
<<<<<<< HEAD
   "metadata": {},
   "outputs": [],
=======
   "metadata": {},
   "outputs": [],
   "source": []
  },
  {
   "cell_type": "markdown",
   "metadata": {},
>>>>>>> ad36f43412ef08c839df04c16fc1d64e1b23c0d1
   "source": []
  },
  {
   "cell_type": "markdown",
   "metadata": {},
   "source": [
    "Our testing score is considerably lower. "
   ]
  },
  {
   "cell_type": "code",
   "execution_count": null,
   "metadata": {},
   "outputs": [],
   "source": []
  },
  {
   "cell_type": "markdown",
   "metadata": {},
   "source": [
    "Remember the point of a machine learning model is to keep a machine learning model. We want to be confident that when we apply our model in the real world it will do a decent job of evaluating data it has not seen before."
   ]
  },
  {
   "cell_type": "code",
   "execution_count": null,
   "metadata": {},
   "outputs": [],
   "source": []
  },
  {
   "cell_type": "code",
   "execution_count": null,
   "metadata": {},
   "outputs": [],
   "source": []
  },
  {
   "cell_type": "markdown",
   "metadata": {},
   "source": [
    "Now let's try a model in which we impose a `max_depth` in order to prune the tree. "
   ]
  },
  {
   "cell_type": "code",
<<<<<<< HEAD
   "execution_count": 66,
=======
   "execution_count": 108,
>>>>>>> ad36f43412ef08c839df04c16fc1d64e1b23c0d1
   "metadata": {},
   "outputs": [
    {
     "name": "stdout",
     "output_type": "stream",
     "text": [
<<<<<<< HEAD
      "Our training score is 0.805 and our testing score is 0.772\n"
=======
      "Our training score is 0.8 and our testing score is 0.782\n"
>>>>>>> ad36f43412ef08c839df04c16fc1d64e1b23c0d1
     ]
    }
   ],
   "source": [
    "#Initialize\n",
    "dt = DecisionTreeClassifier(max_depth =5)\n",
    "# Fit \n",
    "dt.fit(X_train, y_train)\n",
    "\n",
    "train_score = dt.score(X_train, y_train)\n",
    "test_score = dt.score(X_test, y_test)\n",
    "\n",
    "print(\"Our training score is {} and our testing score is {}\".format(train_score.round(3), test_score.round(3)))"
   ]
  },
  {
   "cell_type": "markdown",
   "metadata": {},
   "source": [
    "The gap between the two scores is considerably lower. We arguably don't have an overfit model anymore."
   ]
  },
  {
   "cell_type": "code",
   "execution_count": null,
   "metadata": {},
   "outputs": [],
   "source": []
  },
  {
   "cell_type": "markdown",
   "metadata": {},
   "source": [
    "Let's see how min_samples_leaf impacts the overfitness of the model"
   ]
  },
  {
   "cell_type": "code",
<<<<<<< HEAD
   "execution_count": 67,
=======
   "execution_count": 119,
>>>>>>> ad36f43412ef08c839df04c16fc1d64e1b23c0d1
   "metadata": {},
   "outputs": [
    {
     "data": {
      "text/plain": [
       "Index(['tenure', 'monthlycharges', 'phoneservice_Yes',\n",
       "       'internetservice_Fiber optic', 'internetservice_No',\n",
       "       'onlinesecurity_Yes', 'techsupport_Yes', 'streamingtv_Yes',\n",
       "       'streamingmovies_Yes', 'contract_One year', 'contract_Two year',\n",
       "       'paperlessbilling_Yes', 'paymentmethod_Credit card (automatic)',\n",
       "       'paymentmethod_Electronic check', 'paymentmethod_Mailed check'],\n",
       "      dtype='object')"
      ]
     },
<<<<<<< HEAD
     "execution_count": 67,
=======
     "execution_count": 119,
>>>>>>> ad36f43412ef08c839df04c16fc1d64e1b23c0d1
     "metadata": {},
     "output_type": "execute_result"
    }
   ],
   "source": [
    "X.columns"
   ]
  },
  {
   "cell_type": "code",
   "execution_count": null,
   "metadata": {},
   "outputs": [],
   "source": []
  },
  {
   "cell_type": "code",
<<<<<<< HEAD
   "execution_count": 68,
=======
   "execution_count": 114,
>>>>>>> ad36f43412ef08c839df04c16fc1d64e1b23c0d1
   "metadata": {},
   "outputs": [
    {
     "name": "stdout",
     "output_type": "stream",
     "text": [
<<<<<<< HEAD
      "Our training score is 0.824 and our testing score is 0.773\n"
=======
      "Our training score is 0.824 and our testing score is 0.786\n"
>>>>>>> ad36f43412ef08c839df04c16fc1d64e1b23c0d1
     ]
    }
   ],
   "source": [
    "#Initialize\n",
    "dt = DecisionTreeClassifier(min_samples_leaf = 20)\n",
    "# Fit \n",
    "dt.fit(X_train, y_train)\n",
    "\n",
    "train_score = dt.score(X_train, y_train)\n",
    "test_score = dt.score(X_test, y_test)\n",
    "\n",
    "print(\"Our training score is {} and our testing score is {}\".format(train_score.round(3), test_score.round(3)))"
   ]
  },
  {
   "cell_type": "code",
   "execution_count": null,
   "metadata": {},
   "outputs": [],
   "source": []
  },
  {
   "cell_type": "code",
   "execution_count": null,
   "metadata": {},
   "outputs": [],
   "source": []
  },
  {
   "cell_type": "markdown",
   "metadata": {},
   "source": [
    "### Tree Visualization\n",
    "\n",
    "We are going to visualize the actual decision tree.\n",
    "\n",
    "\n",
    "Let's retrain it with a small `max_depth` "
   ]
  },
  {
   "cell_type": "code",
<<<<<<< HEAD
   "execution_count": 69,
=======
   "execution_count": 158,
>>>>>>> ad36f43412ef08c839df04c16fc1d64e1b23c0d1
   "metadata": {},
   "outputs": [
    {
     "data": {
      "text/plain": [
       "DecisionTreeClassifier(max_depth=3)"
      ]
     },
<<<<<<< HEAD
     "execution_count": 69,
=======
     "execution_count": 158,
>>>>>>> ad36f43412ef08c839df04c16fc1d64e1b23c0d1
     "metadata": {},
     "output_type": "execute_result"
    }
   ],
   "source": [
    "dt = DecisionTreeClassifier(max_depth = 3)\n",
    "dt.fit(X_train, y_train)"
   ]
  },
  {
   "cell_type": "code",
<<<<<<< HEAD
   "execution_count": 74,
=======
   "execution_count": 160,
>>>>>>> ad36f43412ef08c839df04c16fc1d64e1b23c0d1
   "metadata": {},
   "outputs": [
    {
     "data": {
<<<<<<< HEAD
      "image/png": "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\n",
=======
      "image/png": "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\n",
>>>>>>> ad36f43412ef08c839df04c16fc1d64e1b23c0d1
      "text/plain": [
       "<Figure size 2016x1440 with 1 Axes>"
      ]
     },
     "metadata": {},
     "output_type": "display_data"
    }
   ],
   "source": [
    "plt.figure(figsize=(28, 20))\n",
    "plot_tree(dt, feature_names=X.columns, class_names=[\"No\", \"Yes\"], \n",
<<<<<<< HEAD
    "          filled = True, proportion=True, fontsize=18\n",
=======
    "          filled = True, proportion=True, \n",
    "#           max_depth=3\n",
>>>>>>> ad36f43412ef08c839df04c16fc1d64e1b23c0d1
    "         );"
   ]
  },
  {
   "cell_type": "code",
   "execution_count": null,
   "metadata": {},
   "outputs": [],
   "source": []
  },
  {
   "cell_type": "markdown",
   "metadata": {},
   "source": [
    "**What does the tree tell us about patterns in the data**"
   ]
  },
  {
   "cell_type": "code",
   "execution_count": null,
   "metadata": {},
   "outputs": [],
   "source": []
  },
  {
   "cell_type": "markdown",
   "metadata": {},
   "source": [
    "Using the tree, how would we make predictions about the following customers?\n",
    "\n",
    "\n",
    "    - Customer A: Been a customer for 20 months, does have fiber optic internet and is on a two year contract.\n",
    "    - Customer B: Been a customer for 10 months and has fiber optic internet"
   ]
  },
  {
   "cell_type": "code",
   "execution_count": null,
   "metadata": {},
   "outputs": [],
   "source": []
  }
 ],
 "metadata": {
  "anaconda-cloud": {},
  "hide_input": false,
  "kernelspec": {
<<<<<<< HEAD
   "display_name": "Python 3 with Fil",
=======
   "display_name": "Python 3",
>>>>>>> ad36f43412ef08c839df04c16fc1d64e1b23c0d1
   "language": "python",
   "name": "filprofile"
  },
  "language_info": {
   "codemirror_mode": {
    "name": "ipython",
    "version": 3
   },
   "file_extension": ".py",
   "mimetype": "text/x-python",
   "name": "python",
   "nbconvert_exporter": "python",
   "pygments_lexer": "ipython3",
   "version": "3.9.12"
  },
  "toc": {
   "base_numbering": 1,
   "nav_menu": {},
   "number_sections": false,
   "sideBar": true,
   "skip_h1_title": false,
   "title_cell": "Table of Contents",
   "title_sidebar": "Contents",
   "toc_cell": false,
   "toc_position": {},
   "toc_section_display": "block",
   "toc_window_display": true
  },
  "varInspector": {
   "cols": {
    "lenName": 16,
    "lenType": 16,
    "lenVar": 40
   },
   "kernels_config": {
    "python": {
     "delete_cmd_postfix": "",
     "delete_cmd_prefix": "del ",
     "library": "var_list.py",
     "varRefreshCmd": "print(var_dic_list())"
    },
    "r": {
     "delete_cmd_postfix": ") ",
     "delete_cmd_prefix": "rm(",
     "library": "var_list.r",
     "varRefreshCmd": "cat(var_dic_list()) "
    }
   },
   "types_to_exclude": [
    "module",
    "function",
    "builtin_function_or_method",
    "instance",
    "_Feature"
   ],
   "window_display": false
  }
 },
 "nbformat": 4,
 "nbformat_minor": 4
}
